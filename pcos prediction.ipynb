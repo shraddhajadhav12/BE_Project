{
 "cells": [
  {
   "cell_type": "code",
   "execution_count": 1,
   "metadata": {
    "id": "Oq23oGu4hMb8"
   },
   "outputs": [],
   "source": [
    "import pandas as pd\n",
    "import numpy as np\n",
    "import seaborn as sns\n",
    "import matplotlib.pyplot as plt\n",
    "from sklearn.model_selection import train_test_split\n",
    "from sklearn.naive_bayes import GaussianNB\n",
    "from sklearn.linear_model import LogisticRegression\n",
    "from sklearn.metrics import confusion_matrix, accuracy_score,recall_score, roc_curve, auc\n",
    "from sklearn import neighbors\n",
    "from sklearn.metrics import plot_confusion_matrix\n",
    "from sklearn.ensemble import RandomForestClassifier\n",
    "from sklearn import tree"
   ]
  },
  {
   "cell_type": "code",
   "execution_count": 2,
   "metadata": {
    "colab": {
     "base_uri": "https://localhost:8080/",
     "height": 612
    },
    "id": "VkDP51nTjGTG",
    "outputId": "5b787acd-2e61-4d10-c088-f6ee0a9afdd1"
   },
   "outputs": [
    {
     "data": {
      "text/html": [
       "<div>\n",
       "<style scoped>\n",
       "    .dataframe tbody tr th:only-of-type {\n",
       "        vertical-align: middle;\n",
       "    }\n",
       "\n",
       "    .dataframe tbody tr th {\n",
       "        vertical-align: top;\n",
       "    }\n",
       "\n",
       "    .dataframe thead th {\n",
       "        text-align: right;\n",
       "    }\n",
       "</style>\n",
       "<table border=\"1\" class=\"dataframe\">\n",
       "  <thead>\n",
       "    <tr style=\"text-align: right;\">\n",
       "      <th></th>\n",
       "      <th>Timestamp</th>\n",
       "      <th>1. Pick your age limit</th>\n",
       "      <th>2. Which work profile matches you?</th>\n",
       "      <th>3. What is your marital status?</th>\n",
       "      <th>4. How many kids do you have?</th>\n",
       "      <th>5. How would you describe your Body Physic?</th>\n",
       "      <th>6. Have you done any ultrasound scanning and what does your report say?</th>\n",
       "      <th>7. Do you notice any of these right before your period begins?</th>\n",
       "      <th>8. Are you experiencing irregular or late periods?</th>\n",
       "      <th>9. Are you experiencing painful periods?</th>\n",
       "      <th>...</th>\n",
       "      <th>16. Do you suffer from diabetes?</th>\n",
       "      <th>17. Do you suffer from hypothyroidism?</th>\n",
       "      <th>18. Do you experience excessive growth of facial and body hair?</th>\n",
       "      <th>19. Do you have acne/hyper-pigmentation?</th>\n",
       "      <th>20. Do you have the habit of consuming alcohol?</th>\n",
       "      <th>21. Do you have habit of smoking?</th>\n",
       "      <th>21. Are you under any stress?</th>\n",
       "      <th>22. Do you exercise regularly?</th>\n",
       "      <th>23. How would you describe your diet?</th>\n",
       "      <th>24. Are you diagnosed with PCOS/PCOD?</th>\n",
       "    </tr>\n",
       "  </thead>\n",
       "  <tbody>\n",
       "    <tr>\n",
       "      <th>0</th>\n",
       "      <td>8/12/2022 14:50:10</td>\n",
       "      <td>19-34</td>\n",
       "      <td>Student</td>\n",
       "      <td>Unmarried</td>\n",
       "      <td>0</td>\n",
       "      <td>I am at a healthy weight</td>\n",
       "      <td>No scanning was done</td>\n",
       "      <td>Constipation</td>\n",
       "      <td>No</td>\n",
       "      <td>Yes</td>\n",
       "      <td>...</td>\n",
       "      <td>No</td>\n",
       "      <td>No</td>\n",
       "      <td>No</td>\n",
       "      <td>No</td>\n",
       "      <td>No</td>\n",
       "      <td>No</td>\n",
       "      <td>No</td>\n",
       "      <td>Yes</td>\n",
       "      <td>Consist of packaged/processed food</td>\n",
       "      <td>I Don't know</td>\n",
       "    </tr>\n",
       "    <tr>\n",
       "      <th>1</th>\n",
       "      <td>8/12/2022 14:50:41</td>\n",
       "      <td>19-34</td>\n",
       "      <td>Student</td>\n",
       "      <td>Unmarried</td>\n",
       "      <td>0</td>\n",
       "      <td>I am at a healthy weight</td>\n",
       "      <td>No scanning was done</td>\n",
       "      <td>Mood Swings</td>\n",
       "      <td>No</td>\n",
       "      <td>No</td>\n",
       "      <td>...</td>\n",
       "      <td>No</td>\n",
       "      <td>No</td>\n",
       "      <td>No</td>\n",
       "      <td>Yes</td>\n",
       "      <td>No</td>\n",
       "      <td>No</td>\n",
       "      <td>No</td>\n",
       "      <td>No</td>\n",
       "      <td>Consist of packaged/processed food</td>\n",
       "      <td>I Don't know</td>\n",
       "    </tr>\n",
       "    <tr>\n",
       "      <th>2</th>\n",
       "      <td>8/12/2022 14:56:46</td>\n",
       "      <td>19-34</td>\n",
       "      <td>Employed</td>\n",
       "      <td>Unmarried</td>\n",
       "      <td>0</td>\n",
       "      <td>I am a bit overweight</td>\n",
       "      <td>Normal results</td>\n",
       "      <td>Mood Swings</td>\n",
       "      <td>No</td>\n",
       "      <td>Yes</td>\n",
       "      <td>...</td>\n",
       "      <td>No</td>\n",
       "      <td>No</td>\n",
       "      <td>No</td>\n",
       "      <td>Yes</td>\n",
       "      <td>No</td>\n",
       "      <td>No</td>\n",
       "      <td>No</td>\n",
       "      <td>Yes</td>\n",
       "      <td>Consist of high fiber and balance between carb...</td>\n",
       "      <td>No</td>\n",
       "    </tr>\n",
       "    <tr>\n",
       "      <th>3</th>\n",
       "      <td>8/12/2022 14:57:19</td>\n",
       "      <td>19-34</td>\n",
       "      <td>Student</td>\n",
       "      <td>Unmarried</td>\n",
       "      <td>0</td>\n",
       "      <td>I am a bit overweight</td>\n",
       "      <td>No scanning was done</td>\n",
       "      <td>Constipation</td>\n",
       "      <td>Yes</td>\n",
       "      <td>Yes</td>\n",
       "      <td>...</td>\n",
       "      <td>No</td>\n",
       "      <td>No</td>\n",
       "      <td>No</td>\n",
       "      <td>Yes</td>\n",
       "      <td>No</td>\n",
       "      <td>No</td>\n",
       "      <td>Yes</td>\n",
       "      <td>No</td>\n",
       "      <td>Consist of packaged/processed food</td>\n",
       "      <td>I Don't know</td>\n",
       "    </tr>\n",
       "    <tr>\n",
       "      <th>4</th>\n",
       "      <td>8/12/2022 15:02:16</td>\n",
       "      <td>19-34</td>\n",
       "      <td>Student</td>\n",
       "      <td>Unmarried</td>\n",
       "      <td>0</td>\n",
       "      <td>I am at a healthy weight</td>\n",
       "      <td>No scanning was done</td>\n",
       "      <td>Mood Swings</td>\n",
       "      <td>No</td>\n",
       "      <td>No</td>\n",
       "      <td>...</td>\n",
       "      <td>No</td>\n",
       "      <td>No</td>\n",
       "      <td>No</td>\n",
       "      <td>No</td>\n",
       "      <td>No</td>\n",
       "      <td>No</td>\n",
       "      <td>No</td>\n",
       "      <td>No</td>\n",
       "      <td>Consist of packaged/processed food</td>\n",
       "      <td>I Don't know</td>\n",
       "    </tr>\n",
       "  </tbody>\n",
       "</table>\n",
       "<p>5 rows × 26 columns</p>\n",
       "</div>"
      ],
      "text/plain": [
       "            Timestamp 1. Pick your age limit  \\\n",
       "0  8/12/2022 14:50:10                  19-34   \n",
       "1  8/12/2022 14:50:41                  19-34   \n",
       "2  8/12/2022 14:56:46                  19-34   \n",
       "3  8/12/2022 14:57:19                  19-34   \n",
       "4  8/12/2022 15:02:16                  19-34   \n",
       "\n",
       "  2. Which work profile matches you? 3. What is your marital status?  \\\n",
       "0                            Student                       Unmarried   \n",
       "1                            Student                       Unmarried   \n",
       "2                           Employed                       Unmarried   \n",
       "3                            Student                       Unmarried   \n",
       "4                            Student                       Unmarried   \n",
       "\n",
       "  4. How many kids do you have? 5. How would you describe your Body Physic?  \\\n",
       "0                             0                    I am at a healthy weight   \n",
       "1                             0                    I am at a healthy weight   \n",
       "2                             0                       I am a bit overweight   \n",
       "3                             0                       I am a bit overweight   \n",
       "4                             0                    I am at a healthy weight   \n",
       "\n",
       "  6. Have you done any ultrasound scanning and what does your report say?  \\\n",
       "0                               No scanning was done                        \n",
       "1                               No scanning was done                        \n",
       "2                                     Normal results                        \n",
       "3                               No scanning was done                        \n",
       "4                               No scanning was done                        \n",
       "\n",
       "  7. Do you notice any of these right before your period begins?  \\\n",
       "0                                       Constipation               \n",
       "1                                        Mood Swings               \n",
       "2                                        Mood Swings               \n",
       "3                                       Constipation               \n",
       "4                                        Mood Swings               \n",
       "\n",
       "  8. Are you experiencing irregular or late periods?  \\\n",
       "0                                                 No   \n",
       "1                                                 No   \n",
       "2                                                 No   \n",
       "3                                                Yes   \n",
       "4                                                 No   \n",
       "\n",
       "  9. Are you experiencing painful periods?  ...  \\\n",
       "0                                      Yes  ...   \n",
       "1                                       No  ...   \n",
       "2                                      Yes  ...   \n",
       "3                                      Yes  ...   \n",
       "4                                       No  ...   \n",
       "\n",
       "  16. Do you suffer from diabetes? 17. Do you suffer from hypothyroidism?  \\\n",
       "0                               No                                     No   \n",
       "1                               No                                     No   \n",
       "2                               No                                     No   \n",
       "3                               No                                     No   \n",
       "4                               No                                     No   \n",
       "\n",
       "  18. Do you experience excessive growth of facial and body hair?  \\\n",
       "0                                                 No                \n",
       "1                                                 No                \n",
       "2                                                 No                \n",
       "3                                                 No                \n",
       "4                                                 No                \n",
       "\n",
       "  19. Do you have acne/hyper-pigmentation?  \\\n",
       "0                                       No   \n",
       "1                                      Yes   \n",
       "2                                      Yes   \n",
       "3                                      Yes   \n",
       "4                                       No   \n",
       "\n",
       "  20. Do you have the habit of consuming alcohol?  \\\n",
       "0                                              No   \n",
       "1                                              No   \n",
       "2                                              No   \n",
       "3                                              No   \n",
       "4                                              No   \n",
       "\n",
       "  21. Do you have habit of smoking? 21. Are you under any stress?  \\\n",
       "0                                No                            No   \n",
       "1                                No                            No   \n",
       "2                                No                            No   \n",
       "3                                No                           Yes   \n",
       "4                                No                            No   \n",
       "\n",
       "  22. Do you exercise regularly?  \\\n",
       "0                            Yes   \n",
       "1                             No   \n",
       "2                            Yes   \n",
       "3                             No   \n",
       "4                             No   \n",
       "\n",
       "               23. How would you describe your diet?  \\\n",
       "0                 Consist of packaged/processed food   \n",
       "1                 Consist of packaged/processed food   \n",
       "2  Consist of high fiber and balance between carb...   \n",
       "3                 Consist of packaged/processed food   \n",
       "4                 Consist of packaged/processed food   \n",
       "\n",
       "  24. Are you diagnosed with PCOS/PCOD?  \n",
       "0                          I Don't know  \n",
       "1                          I Don't know  \n",
       "2                                    No  \n",
       "3                          I Don't know  \n",
       "4                          I Don't know  \n",
       "\n",
       "[5 rows x 26 columns]"
      ]
     },
     "execution_count": 2,
     "metadata": {},
     "output_type": "execute_result"
    }
   ],
   "source": [
    "#Reading the dataset\n",
    "df=pd.read_csv(\"PCOS_data.csv\")\n",
    "df.head()"
   ]
  },
  {
   "cell_type": "code",
   "execution_count": 3,
   "metadata": {
    "colab": {
     "base_uri": "https://localhost:8080/",
     "height": 612
    },
    "id": "_2URg9q_jGU6",
    "outputId": "17416267-1a6d-46f2-9871-a52a5dc3496b"
   },
   "outputs": [
    {
     "data": {
      "text/html": [
       "<div>\n",
       "<style scoped>\n",
       "    .dataframe tbody tr th:only-of-type {\n",
       "        vertical-align: middle;\n",
       "    }\n",
       "\n",
       "    .dataframe tbody tr th {\n",
       "        vertical-align: top;\n",
       "    }\n",
       "\n",
       "    .dataframe thead th {\n",
       "        text-align: right;\n",
       "    }\n",
       "</style>\n",
       "<table border=\"1\" class=\"dataframe\">\n",
       "  <thead>\n",
       "    <tr style=\"text-align: right;\">\n",
       "      <th></th>\n",
       "      <th>Timestamp</th>\n",
       "      <th>1. Pick your age limit</th>\n",
       "      <th>2. Which work profile matches you?</th>\n",
       "      <th>3. What is your marital status?</th>\n",
       "      <th>4. How many kids do you have?</th>\n",
       "      <th>5. How would you describe your Body Physic?</th>\n",
       "      <th>6. Have you done any ultrasound scanning and what does your report say?</th>\n",
       "      <th>7. Do you notice any of these right before your period begins?</th>\n",
       "      <th>8. Are you experiencing irregular or late periods?</th>\n",
       "      <th>9. Are you experiencing painful periods?</th>\n",
       "      <th>...</th>\n",
       "      <th>16. Do you suffer from diabetes?</th>\n",
       "      <th>17. Do you suffer from hypothyroidism?</th>\n",
       "      <th>18. Do you experience excessive growth of facial and body hair?</th>\n",
       "      <th>19. Do you have acne/hyper-pigmentation?</th>\n",
       "      <th>20. Do you have the habit of consuming alcohol?</th>\n",
       "      <th>21. Do you have habit of smoking?</th>\n",
       "      <th>21. Are you under any stress?</th>\n",
       "      <th>22. Do you exercise regularly?</th>\n",
       "      <th>23. How would you describe your diet?</th>\n",
       "      <th>24. Are you diagnosed with PCOS/PCOD?</th>\n",
       "    </tr>\n",
       "  </thead>\n",
       "  <tbody>\n",
       "    <tr>\n",
       "      <th>0</th>\n",
       "      <td>8/12/2022 14:50:10</td>\n",
       "      <td>19-34</td>\n",
       "      <td>Student</td>\n",
       "      <td>Unmarried</td>\n",
       "      <td>0</td>\n",
       "      <td>I am at a healthy weight</td>\n",
       "      <td>No scanning was done</td>\n",
       "      <td>Constipation</td>\n",
       "      <td>No</td>\n",
       "      <td>Yes</td>\n",
       "      <td>...</td>\n",
       "      <td>No</td>\n",
       "      <td>No</td>\n",
       "      <td>No</td>\n",
       "      <td>No</td>\n",
       "      <td>No</td>\n",
       "      <td>No</td>\n",
       "      <td>No</td>\n",
       "      <td>Yes</td>\n",
       "      <td>Consist of packaged/processed food</td>\n",
       "      <td>I Don't know</td>\n",
       "    </tr>\n",
       "    <tr>\n",
       "      <th>1</th>\n",
       "      <td>8/12/2022 14:50:41</td>\n",
       "      <td>19-34</td>\n",
       "      <td>Student</td>\n",
       "      <td>Unmarried</td>\n",
       "      <td>0</td>\n",
       "      <td>I am at a healthy weight</td>\n",
       "      <td>No scanning was done</td>\n",
       "      <td>Mood Swings</td>\n",
       "      <td>No</td>\n",
       "      <td>No</td>\n",
       "      <td>...</td>\n",
       "      <td>No</td>\n",
       "      <td>No</td>\n",
       "      <td>No</td>\n",
       "      <td>Yes</td>\n",
       "      <td>No</td>\n",
       "      <td>No</td>\n",
       "      <td>No</td>\n",
       "      <td>No</td>\n",
       "      <td>Consist of packaged/processed food</td>\n",
       "      <td>I Don't know</td>\n",
       "    </tr>\n",
       "    <tr>\n",
       "      <th>2</th>\n",
       "      <td>8/12/2022 14:56:46</td>\n",
       "      <td>19-34</td>\n",
       "      <td>Employed</td>\n",
       "      <td>Unmarried</td>\n",
       "      <td>0</td>\n",
       "      <td>I am a bit overweight</td>\n",
       "      <td>Normal results</td>\n",
       "      <td>Mood Swings</td>\n",
       "      <td>No</td>\n",
       "      <td>Yes</td>\n",
       "      <td>...</td>\n",
       "      <td>No</td>\n",
       "      <td>No</td>\n",
       "      <td>No</td>\n",
       "      <td>Yes</td>\n",
       "      <td>No</td>\n",
       "      <td>No</td>\n",
       "      <td>No</td>\n",
       "      <td>Yes</td>\n",
       "      <td>Consist of high fiber and balance between carb...</td>\n",
       "      <td>No</td>\n",
       "    </tr>\n",
       "    <tr>\n",
       "      <th>3</th>\n",
       "      <td>8/12/2022 14:57:19</td>\n",
       "      <td>19-34</td>\n",
       "      <td>Student</td>\n",
       "      <td>Unmarried</td>\n",
       "      <td>0</td>\n",
       "      <td>I am a bit overweight</td>\n",
       "      <td>No scanning was done</td>\n",
       "      <td>Constipation</td>\n",
       "      <td>Yes</td>\n",
       "      <td>Yes</td>\n",
       "      <td>...</td>\n",
       "      <td>No</td>\n",
       "      <td>No</td>\n",
       "      <td>No</td>\n",
       "      <td>Yes</td>\n",
       "      <td>No</td>\n",
       "      <td>No</td>\n",
       "      <td>Yes</td>\n",
       "      <td>No</td>\n",
       "      <td>Consist of packaged/processed food</td>\n",
       "      <td>I Don't know</td>\n",
       "    </tr>\n",
       "    <tr>\n",
       "      <th>4</th>\n",
       "      <td>8/12/2022 15:02:16</td>\n",
       "      <td>19-34</td>\n",
       "      <td>Student</td>\n",
       "      <td>Unmarried</td>\n",
       "      <td>0</td>\n",
       "      <td>I am at a healthy weight</td>\n",
       "      <td>No scanning was done</td>\n",
       "      <td>Mood Swings</td>\n",
       "      <td>No</td>\n",
       "      <td>No</td>\n",
       "      <td>...</td>\n",
       "      <td>No</td>\n",
       "      <td>No</td>\n",
       "      <td>No</td>\n",
       "      <td>No</td>\n",
       "      <td>No</td>\n",
       "      <td>No</td>\n",
       "      <td>No</td>\n",
       "      <td>No</td>\n",
       "      <td>Consist of packaged/processed food</td>\n",
       "      <td>I Don't know</td>\n",
       "    </tr>\n",
       "  </tbody>\n",
       "</table>\n",
       "<p>5 rows × 26 columns</p>\n",
       "</div>"
      ],
      "text/plain": [
       "            Timestamp 1. Pick your age limit  \\\n",
       "0  8/12/2022 14:50:10                  19-34   \n",
       "1  8/12/2022 14:50:41                  19-34   \n",
       "2  8/12/2022 14:56:46                  19-34   \n",
       "3  8/12/2022 14:57:19                  19-34   \n",
       "4  8/12/2022 15:02:16                  19-34   \n",
       "\n",
       "  2. Which work profile matches you? 3. What is your marital status?  \\\n",
       "0                            Student                       Unmarried   \n",
       "1                            Student                       Unmarried   \n",
       "2                           Employed                       Unmarried   \n",
       "3                            Student                       Unmarried   \n",
       "4                            Student                       Unmarried   \n",
       "\n",
       "  4. How many kids do you have? 5. How would you describe your Body Physic?  \\\n",
       "0                             0                    I am at a healthy weight   \n",
       "1                             0                    I am at a healthy weight   \n",
       "2                             0                       I am a bit overweight   \n",
       "3                             0                       I am a bit overweight   \n",
       "4                             0                    I am at a healthy weight   \n",
       "\n",
       "  6. Have you done any ultrasound scanning and what does your report say?  \\\n",
       "0                               No scanning was done                        \n",
       "1                               No scanning was done                        \n",
       "2                                     Normal results                        \n",
       "3                               No scanning was done                        \n",
       "4                               No scanning was done                        \n",
       "\n",
       "  7. Do you notice any of these right before your period begins?  \\\n",
       "0                                       Constipation               \n",
       "1                                        Mood Swings               \n",
       "2                                        Mood Swings               \n",
       "3                                       Constipation               \n",
       "4                                        Mood Swings               \n",
       "\n",
       "  8. Are you experiencing irregular or late periods?  \\\n",
       "0                                                 No   \n",
       "1                                                 No   \n",
       "2                                                 No   \n",
       "3                                                Yes   \n",
       "4                                                 No   \n",
       "\n",
       "  9. Are you experiencing painful periods?  ...  \\\n",
       "0                                      Yes  ...   \n",
       "1                                       No  ...   \n",
       "2                                      Yes  ...   \n",
       "3                                      Yes  ...   \n",
       "4                                       No  ...   \n",
       "\n",
       "  16. Do you suffer from diabetes? 17. Do you suffer from hypothyroidism?  \\\n",
       "0                               No                                     No   \n",
       "1                               No                                     No   \n",
       "2                               No                                     No   \n",
       "3                               No                                     No   \n",
       "4                               No                                     No   \n",
       "\n",
       "  18. Do you experience excessive growth of facial and body hair?  \\\n",
       "0                                                 No                \n",
       "1                                                 No                \n",
       "2                                                 No                \n",
       "3                                                 No                \n",
       "4                                                 No                \n",
       "\n",
       "  19. Do you have acne/hyper-pigmentation?  \\\n",
       "0                                       No   \n",
       "1                                      Yes   \n",
       "2                                      Yes   \n",
       "3                                      Yes   \n",
       "4                                       No   \n",
       "\n",
       "  20. Do you have the habit of consuming alcohol?  \\\n",
       "0                                              No   \n",
       "1                                              No   \n",
       "2                                              No   \n",
       "3                                              No   \n",
       "4                                              No   \n",
       "\n",
       "  21. Do you have habit of smoking? 21. Are you under any stress?  \\\n",
       "0                                No                            No   \n",
       "1                                No                            No   \n",
       "2                                No                            No   \n",
       "3                                No                           Yes   \n",
       "4                                No                            No   \n",
       "\n",
       "  22. Do you exercise regularly?  \\\n",
       "0                            Yes   \n",
       "1                             No   \n",
       "2                            Yes   \n",
       "3                             No   \n",
       "4                             No   \n",
       "\n",
       "               23. How would you describe your diet?  \\\n",
       "0                 Consist of packaged/processed food   \n",
       "1                 Consist of packaged/processed food   \n",
       "2  Consist of high fiber and balance between carb...   \n",
       "3                 Consist of packaged/processed food   \n",
       "4                 Consist of packaged/processed food   \n",
       "\n",
       "  24. Are you diagnosed with PCOS/PCOD?  \n",
       "0                          I Don't know  \n",
       "1                          I Don't know  \n",
       "2                                    No  \n",
       "3                          I Don't know  \n",
       "4                          I Don't know  \n",
       "\n",
       "[5 rows x 26 columns]"
      ]
     },
     "execution_count": 3,
     "metadata": {},
     "output_type": "execute_result"
    }
   ],
   "source": [
    "df.head()"
   ]
  },
  {
   "cell_type": "code",
   "execution_count": 4,
   "metadata": {
    "colab": {
     "base_uri": "https://localhost:8080/"
    },
    "id": "OmXENWdTjGYE",
    "outputId": "aede7bf3-ab27-41f0-e866-b91791498a73"
   },
   "outputs": [
    {
     "name": "stdout",
     "output_type": "stream",
     "text": [
      "<class 'pandas.core.frame.DataFrame'>\n",
      "RangeIndex: 166 entries, 0 to 165\n",
      "Data columns (total 26 columns):\n",
      " #   Column                                                                   Non-Null Count  Dtype \n",
      "---  ------                                                                   --------------  ----- \n",
      " 0   Timestamp                                                                166 non-null    object\n",
      " 1   1. Pick your age limit                                                   166 non-null    object\n",
      " 2   2. Which work profile matches you?                                       166 non-null    object\n",
      " 3   3. What is your marital status?                                          166 non-null    object\n",
      " 4   4. How many kids do you have?                                            166 non-null    object\n",
      " 5   5. How would you describe your Body Physic?                              166 non-null    object\n",
      " 6   6. Have you done any ultrasound scanning and what does your report say?  166 non-null    object\n",
      " 7   7. Do you notice any of these right before your period begins?           166 non-null    object\n",
      " 8   8. Are you experiencing irregular or late periods?                       166 non-null    object\n",
      " 9   9. Are you experiencing painful periods?                                 166 non-null    object\n",
      " 10  10. Are you experiencing excessive bleeding?                             166 non-null    object\n",
      " 11  11. How often do you get your periods?                                   166 non-null    object\n",
      " 12  12. How long does your period last?                                      166 non-null    object\n",
      " 13  13. How would you like to rate your period pains?                        166 non-null    object\n",
      " 14  14. Do you notice any clots during your periods?                         166 non-null    object\n",
      " 15  15. Is/was your mother diagnosed with PCOS/PCOD?                         166 non-null    object\n",
      " 16  16. Do you suffer from diabetes?                                         166 non-null    object\n",
      " 17  17. Do you suffer from hypothyroidism?                                   166 non-null    object\n",
      " 18  18. Do you experience excessive growth of facial and body hair?          166 non-null    object\n",
      " 19  19. Do you have acne/hyper-pigmentation?                                 166 non-null    object\n",
      " 20  20. Do you have the habit of consuming alcohol?                          166 non-null    object\n",
      " 21  21. Do you have habit of smoking?                                        166 non-null    object\n",
      " 22  21. Are you under any stress?                                            166 non-null    object\n",
      " 23  22. Do you exercise regularly?                                           166 non-null    object\n",
      " 24  23. How would you describe your diet?                                    166 non-null    object\n",
      " 25  24. Are you diagnosed with PCOS/PCOD?                                    166 non-null    object\n",
      "dtypes: object(26)\n",
      "memory usage: 33.8+ KB\n"
     ]
    }
   ],
   "source": [
    "df.info()"
   ]
  },
  {
   "cell_type": "code",
   "execution_count": 5,
   "metadata": {
    "id": "wAF44QG6jGZl"
   },
   "outputs": [],
   "source": [
    "renamed={'1. Pick your age limit': 'age limit', \n",
    "                       '2. Which work profile matches you?': 'Profession', \n",
    "                       '3. What is your marital status?':'marital status', \n",
    "                       '4. How many kids do you have?':'no of kids', \n",
    "                       '5. How would you describe your Body Physic?':'body type', \n",
    "                       '6. Have you done any ultrasound scanning and what does your report say?':'ultrasound status', \n",
    "                       '7. Do you notice any of these right before your period begins?':'PMS', \n",
    "                       '8. Are you experiencing irregular or late periods?':'regular periods', \n",
    "                       '9. Are you experiencing painful periods?':'painful periods', \n",
    "                       '10. Are you experiencing excessive bleeding?':'excessive bleeding',\n",
    "                       '11. How often do you get your periods?':'period cycle',\n",
    "                       '12. How long does your period last?':'period length',\n",
    "                       '13. How would you like to rate your period pains?':'period pain scale',\n",
    "                       '14. Do you notice any clots during your periods?':'period clots',\n",
    "                       '15. Is/was your mother diagnosed with PCOS/PCOD? ':'genetic PCOS',\n",
    "                       '16. Do you suffer from diabetes?':'diabetes',\n",
    "                       '17. Do you suffer from hypothyroidism?':'hypothyroid',\n",
    "                       '18. Do you experience excessive growth of facial and body hair?':'excessive hair growth',\n",
    "                       '19. Do you have acne/hyper-pigmentation?':'acne',\n",
    "                       '20. Do you have the habit of consuming alcohol?':'alcohol habit',\n",
    "                       '21. Do you have habit of smoking?': 'smoking habit',\n",
    "                       '21. Are you under any stress?':'stress',\n",
    "                       '22. Do you exercise regularly?':'regular excercise',\n",
    "                       '23. How would you describe your diet?':'diet',\n",
    "                       '24. Are you diagnosed with PCOS/PCOD?':'diagnosis',\n",
    "                       }"
   ]
  },
  {
   "cell_type": "code",
   "execution_count": 6,
   "metadata": {
    "colab": {
     "base_uri": "https://localhost:8080/",
     "height": 508
    },
    "id": "NOB6euwnjGdW",
    "outputId": "056e7829-62bc-450c-f871-2fada19c9830"
   },
   "outputs": [
    {
     "data": {
      "text/html": [
       "<div>\n",
       "<style scoped>\n",
       "    .dataframe tbody tr th:only-of-type {\n",
       "        vertical-align: middle;\n",
       "    }\n",
       "\n",
       "    .dataframe tbody tr th {\n",
       "        vertical-align: top;\n",
       "    }\n",
       "\n",
       "    .dataframe thead th {\n",
       "        text-align: right;\n",
       "    }\n",
       "</style>\n",
       "<table border=\"1\" class=\"dataframe\">\n",
       "  <thead>\n",
       "    <tr style=\"text-align: right;\">\n",
       "      <th></th>\n",
       "      <th>Timestamp</th>\n",
       "      <th>age limit</th>\n",
       "      <th>Profession</th>\n",
       "      <th>marital status</th>\n",
       "      <th>no of kids</th>\n",
       "      <th>body type</th>\n",
       "      <th>ultrasound status</th>\n",
       "      <th>PMS</th>\n",
       "      <th>regular periods</th>\n",
       "      <th>painful periods</th>\n",
       "      <th>...</th>\n",
       "      <th>diabetes</th>\n",
       "      <th>hypothyroid</th>\n",
       "      <th>excessive hair growth</th>\n",
       "      <th>acne</th>\n",
       "      <th>alcohol habit</th>\n",
       "      <th>smoking habit</th>\n",
       "      <th>stress</th>\n",
       "      <th>regular excercise</th>\n",
       "      <th>diet</th>\n",
       "      <th>diagnosis</th>\n",
       "    </tr>\n",
       "  </thead>\n",
       "  <tbody>\n",
       "    <tr>\n",
       "      <th>0</th>\n",
       "      <td>8/12/2022 14:50:10</td>\n",
       "      <td>19-34</td>\n",
       "      <td>Student</td>\n",
       "      <td>Unmarried</td>\n",
       "      <td>0</td>\n",
       "      <td>I am at a healthy weight</td>\n",
       "      <td>No scanning was done</td>\n",
       "      <td>Constipation</td>\n",
       "      <td>No</td>\n",
       "      <td>Yes</td>\n",
       "      <td>...</td>\n",
       "      <td>No</td>\n",
       "      <td>No</td>\n",
       "      <td>No</td>\n",
       "      <td>No</td>\n",
       "      <td>No</td>\n",
       "      <td>No</td>\n",
       "      <td>No</td>\n",
       "      <td>Yes</td>\n",
       "      <td>Consist of packaged/processed food</td>\n",
       "      <td>I Don't know</td>\n",
       "    </tr>\n",
       "    <tr>\n",
       "      <th>1</th>\n",
       "      <td>8/12/2022 14:50:41</td>\n",
       "      <td>19-34</td>\n",
       "      <td>Student</td>\n",
       "      <td>Unmarried</td>\n",
       "      <td>0</td>\n",
       "      <td>I am at a healthy weight</td>\n",
       "      <td>No scanning was done</td>\n",
       "      <td>Mood Swings</td>\n",
       "      <td>No</td>\n",
       "      <td>No</td>\n",
       "      <td>...</td>\n",
       "      <td>No</td>\n",
       "      <td>No</td>\n",
       "      <td>No</td>\n",
       "      <td>Yes</td>\n",
       "      <td>No</td>\n",
       "      <td>No</td>\n",
       "      <td>No</td>\n",
       "      <td>No</td>\n",
       "      <td>Consist of packaged/processed food</td>\n",
       "      <td>I Don't know</td>\n",
       "    </tr>\n",
       "    <tr>\n",
       "      <th>2</th>\n",
       "      <td>8/12/2022 14:56:46</td>\n",
       "      <td>19-34</td>\n",
       "      <td>Employed</td>\n",
       "      <td>Unmarried</td>\n",
       "      <td>0</td>\n",
       "      <td>I am a bit overweight</td>\n",
       "      <td>Normal results</td>\n",
       "      <td>Mood Swings</td>\n",
       "      <td>No</td>\n",
       "      <td>Yes</td>\n",
       "      <td>...</td>\n",
       "      <td>No</td>\n",
       "      <td>No</td>\n",
       "      <td>No</td>\n",
       "      <td>Yes</td>\n",
       "      <td>No</td>\n",
       "      <td>No</td>\n",
       "      <td>No</td>\n",
       "      <td>Yes</td>\n",
       "      <td>Consist of high fiber and balance between carb...</td>\n",
       "      <td>No</td>\n",
       "    </tr>\n",
       "    <tr>\n",
       "      <th>3</th>\n",
       "      <td>8/12/2022 14:57:19</td>\n",
       "      <td>19-34</td>\n",
       "      <td>Student</td>\n",
       "      <td>Unmarried</td>\n",
       "      <td>0</td>\n",
       "      <td>I am a bit overweight</td>\n",
       "      <td>No scanning was done</td>\n",
       "      <td>Constipation</td>\n",
       "      <td>Yes</td>\n",
       "      <td>Yes</td>\n",
       "      <td>...</td>\n",
       "      <td>No</td>\n",
       "      <td>No</td>\n",
       "      <td>No</td>\n",
       "      <td>Yes</td>\n",
       "      <td>No</td>\n",
       "      <td>No</td>\n",
       "      <td>Yes</td>\n",
       "      <td>No</td>\n",
       "      <td>Consist of packaged/processed food</td>\n",
       "      <td>I Don't know</td>\n",
       "    </tr>\n",
       "    <tr>\n",
       "      <th>4</th>\n",
       "      <td>8/12/2022 15:02:16</td>\n",
       "      <td>19-34</td>\n",
       "      <td>Student</td>\n",
       "      <td>Unmarried</td>\n",
       "      <td>0</td>\n",
       "      <td>I am at a healthy weight</td>\n",
       "      <td>No scanning was done</td>\n",
       "      <td>Mood Swings</td>\n",
       "      <td>No</td>\n",
       "      <td>No</td>\n",
       "      <td>...</td>\n",
       "      <td>No</td>\n",
       "      <td>No</td>\n",
       "      <td>No</td>\n",
       "      <td>No</td>\n",
       "      <td>No</td>\n",
       "      <td>No</td>\n",
       "      <td>No</td>\n",
       "      <td>No</td>\n",
       "      <td>Consist of packaged/processed food</td>\n",
       "      <td>I Don't know</td>\n",
       "    </tr>\n",
       "  </tbody>\n",
       "</table>\n",
       "<p>5 rows × 26 columns</p>\n",
       "</div>"
      ],
      "text/plain": [
       "            Timestamp age limit Profession marital status no of kids  \\\n",
       "0  8/12/2022 14:50:10     19-34    Student      Unmarried          0   \n",
       "1  8/12/2022 14:50:41     19-34    Student      Unmarried          0   \n",
       "2  8/12/2022 14:56:46     19-34   Employed      Unmarried          0   \n",
       "3  8/12/2022 14:57:19     19-34    Student      Unmarried          0   \n",
       "4  8/12/2022 15:02:16     19-34    Student      Unmarried          0   \n",
       "\n",
       "                  body type     ultrasound status           PMS  \\\n",
       "0  I am at a healthy weight  No scanning was done  Constipation   \n",
       "1  I am at a healthy weight  No scanning was done   Mood Swings   \n",
       "2     I am a bit overweight        Normal results   Mood Swings   \n",
       "3     I am a bit overweight  No scanning was done  Constipation   \n",
       "4  I am at a healthy weight  No scanning was done   Mood Swings   \n",
       "\n",
       "  regular periods painful periods  ... diabetes hypothyroid  \\\n",
       "0              No             Yes  ...       No          No   \n",
       "1              No              No  ...       No          No   \n",
       "2              No             Yes  ...       No          No   \n",
       "3             Yes             Yes  ...       No          No   \n",
       "4              No              No  ...       No          No   \n",
       "\n",
       "  excessive hair growth acne alcohol habit smoking habit stress  \\\n",
       "0                    No   No            No            No     No   \n",
       "1                    No  Yes            No            No     No   \n",
       "2                    No  Yes            No            No     No   \n",
       "3                    No  Yes            No            No    Yes   \n",
       "4                    No   No            No            No     No   \n",
       "\n",
       "  regular excercise                                               diet  \\\n",
       "0               Yes                 Consist of packaged/processed food   \n",
       "1                No                 Consist of packaged/processed food   \n",
       "2               Yes  Consist of high fiber and balance between carb...   \n",
       "3                No                 Consist of packaged/processed food   \n",
       "4                No                 Consist of packaged/processed food   \n",
       "\n",
       "      diagnosis  \n",
       "0  I Don't know  \n",
       "1  I Don't know  \n",
       "2            No  \n",
       "3  I Don't know  \n",
       "4  I Don't know  \n",
       "\n",
       "[5 rows x 26 columns]"
      ]
     },
     "execution_count": 6,
     "metadata": {},
     "output_type": "execute_result"
    }
   ],
   "source": [
    "df.rename(renamed, axis='columns', inplace=True)\n",
    "df.head()"
   ]
  },
  {
   "cell_type": "code",
   "execution_count": 7,
   "metadata": {
    "colab": {
     "base_uri": "https://localhost:8080/"
    },
    "id": "le1-Sq9qjGe-",
    "outputId": "ba0f1349-5fc8-429e-bed8-7ca97c34b3a8"
   },
   "outputs": [
    {
     "data": {
      "text/plain": [
       "(166, 26)"
      ]
     },
     "execution_count": 7,
     "metadata": {},
     "output_type": "execute_result"
    }
   ],
   "source": [
    "df.shape"
   ]
  },
  {
   "cell_type": "code",
   "execution_count": 8,
   "metadata": {
    "colab": {
     "base_uri": "https://localhost:8080/"
    },
    "id": "QtzkydShlNJT",
    "outputId": "0fdfcb2a-4a69-4054-eb45-6873bd763864"
   },
   "outputs": [
    {
     "data": {
      "text/plain": [
       "(166, 24)"
      ]
     },
     "execution_count": 8,
     "metadata": {},
     "output_type": "execute_result"
    }
   ],
   "source": [
    "df=df.drop(['Timestamp','ultrasound status'],axis=1)\n",
    "df.shape"
   ]
  },
  {
   "cell_type": "code",
   "execution_count": 9,
   "metadata": {
    "colab": {
     "base_uri": "https://localhost:8080/",
     "height": 838
    },
    "id": "xglkAmuTlYit",
    "outputId": "97e4d976-730f-4585-f27c-3be97fa4691d"
   },
   "outputs": [
    {
     "data": {
      "text/html": [
       "<div>\n",
       "<style scoped>\n",
       "    .dataframe tbody tr th:only-of-type {\n",
       "        vertical-align: middle;\n",
       "    }\n",
       "\n",
       "    .dataframe tbody tr th {\n",
       "        vertical-align: top;\n",
       "    }\n",
       "\n",
       "    .dataframe thead th {\n",
       "        text-align: right;\n",
       "    }\n",
       "</style>\n",
       "<table border=\"1\" class=\"dataframe\">\n",
       "  <thead>\n",
       "    <tr style=\"text-align: right;\">\n",
       "      <th></th>\n",
       "      <th>age limit</th>\n",
       "      <th>Profession</th>\n",
       "      <th>marital status</th>\n",
       "      <th>no of kids</th>\n",
       "      <th>body type</th>\n",
       "      <th>PMS</th>\n",
       "      <th>regular periods</th>\n",
       "      <th>painful periods</th>\n",
       "      <th>excessive bleeding</th>\n",
       "      <th>period cycle</th>\n",
       "      <th>...</th>\n",
       "      <th>diabetes</th>\n",
       "      <th>hypothyroid</th>\n",
       "      <th>excessive hair growth</th>\n",
       "      <th>acne</th>\n",
       "      <th>alcohol habit</th>\n",
       "      <th>smoking habit</th>\n",
       "      <th>stress</th>\n",
       "      <th>regular excercise</th>\n",
       "      <th>diet</th>\n",
       "      <th>diagnosis</th>\n",
       "    </tr>\n",
       "  </thead>\n",
       "  <tbody>\n",
       "    <tr>\n",
       "      <th>0</th>\n",
       "      <td>19-34</td>\n",
       "      <td>Student</td>\n",
       "      <td>Unmarried</td>\n",
       "      <td>0</td>\n",
       "      <td>I am at a healthy weight</td>\n",
       "      <td>Constipation</td>\n",
       "      <td>No</td>\n",
       "      <td>Yes</td>\n",
       "      <td>No</td>\n",
       "      <td>21 - 40 days</td>\n",
       "      <td>...</td>\n",
       "      <td>No</td>\n",
       "      <td>No</td>\n",
       "      <td>No</td>\n",
       "      <td>No</td>\n",
       "      <td>No</td>\n",
       "      <td>No</td>\n",
       "      <td>No</td>\n",
       "      <td>Yes</td>\n",
       "      <td>Consist of packaged/processed food</td>\n",
       "      <td>I Don't know</td>\n",
       "    </tr>\n",
       "    <tr>\n",
       "      <th>1</th>\n",
       "      <td>19-34</td>\n",
       "      <td>Student</td>\n",
       "      <td>Unmarried</td>\n",
       "      <td>0</td>\n",
       "      <td>I am at a healthy weight</td>\n",
       "      <td>Mood Swings</td>\n",
       "      <td>No</td>\n",
       "      <td>No</td>\n",
       "      <td>No</td>\n",
       "      <td>21 - 40 days</td>\n",
       "      <td>...</td>\n",
       "      <td>No</td>\n",
       "      <td>No</td>\n",
       "      <td>No</td>\n",
       "      <td>Yes</td>\n",
       "      <td>No</td>\n",
       "      <td>No</td>\n",
       "      <td>No</td>\n",
       "      <td>No</td>\n",
       "      <td>Consist of packaged/processed food</td>\n",
       "      <td>I Don't know</td>\n",
       "    </tr>\n",
       "    <tr>\n",
       "      <th>2</th>\n",
       "      <td>19-34</td>\n",
       "      <td>Employed</td>\n",
       "      <td>Unmarried</td>\n",
       "      <td>0</td>\n",
       "      <td>I am a bit overweight</td>\n",
       "      <td>Mood Swings</td>\n",
       "      <td>No</td>\n",
       "      <td>Yes</td>\n",
       "      <td>No</td>\n",
       "      <td>21 - 40 days</td>\n",
       "      <td>...</td>\n",
       "      <td>No</td>\n",
       "      <td>No</td>\n",
       "      <td>No</td>\n",
       "      <td>Yes</td>\n",
       "      <td>No</td>\n",
       "      <td>No</td>\n",
       "      <td>No</td>\n",
       "      <td>Yes</td>\n",
       "      <td>Consist of high fiber and balance between carb...</td>\n",
       "      <td>No</td>\n",
       "    </tr>\n",
       "    <tr>\n",
       "      <th>3</th>\n",
       "      <td>19-34</td>\n",
       "      <td>Student</td>\n",
       "      <td>Unmarried</td>\n",
       "      <td>0</td>\n",
       "      <td>I am a bit overweight</td>\n",
       "      <td>Constipation</td>\n",
       "      <td>Yes</td>\n",
       "      <td>Yes</td>\n",
       "      <td>Yes</td>\n",
       "      <td>Less than 21 days</td>\n",
       "      <td>...</td>\n",
       "      <td>No</td>\n",
       "      <td>No</td>\n",
       "      <td>No</td>\n",
       "      <td>Yes</td>\n",
       "      <td>No</td>\n",
       "      <td>No</td>\n",
       "      <td>Yes</td>\n",
       "      <td>No</td>\n",
       "      <td>Consist of packaged/processed food</td>\n",
       "      <td>I Don't know</td>\n",
       "    </tr>\n",
       "    <tr>\n",
       "      <th>4</th>\n",
       "      <td>19-34</td>\n",
       "      <td>Student</td>\n",
       "      <td>Unmarried</td>\n",
       "      <td>0</td>\n",
       "      <td>I am at a healthy weight</td>\n",
       "      <td>Mood Swings</td>\n",
       "      <td>No</td>\n",
       "      <td>No</td>\n",
       "      <td>Yes</td>\n",
       "      <td>Less than 21 days</td>\n",
       "      <td>...</td>\n",
       "      <td>No</td>\n",
       "      <td>No</td>\n",
       "      <td>No</td>\n",
       "      <td>No</td>\n",
       "      <td>No</td>\n",
       "      <td>No</td>\n",
       "      <td>No</td>\n",
       "      <td>No</td>\n",
       "      <td>Consist of packaged/processed food</td>\n",
       "      <td>I Don't know</td>\n",
       "    </tr>\n",
       "    <tr>\n",
       "      <th>5</th>\n",
       "      <td>19-34</td>\n",
       "      <td>Student</td>\n",
       "      <td>Unmarried</td>\n",
       "      <td>0</td>\n",
       "      <td>I am a bit overweight</td>\n",
       "      <td>None</td>\n",
       "      <td>No</td>\n",
       "      <td>No</td>\n",
       "      <td>No</td>\n",
       "      <td>21 - 40 days</td>\n",
       "      <td>...</td>\n",
       "      <td>No</td>\n",
       "      <td>No</td>\n",
       "      <td>No</td>\n",
       "      <td>Yes</td>\n",
       "      <td>No</td>\n",
       "      <td>No</td>\n",
       "      <td>No</td>\n",
       "      <td>Yes</td>\n",
       "      <td>Consist of high fiber and balance between carb...</td>\n",
       "      <td>No</td>\n",
       "    </tr>\n",
       "    <tr>\n",
       "      <th>6</th>\n",
       "      <td>35 - 50</td>\n",
       "      <td>Unemployed</td>\n",
       "      <td>Unmarried</td>\n",
       "      <td>2</td>\n",
       "      <td>I am at a healthy weight</td>\n",
       "      <td>None</td>\n",
       "      <td>No</td>\n",
       "      <td>Yes</td>\n",
       "      <td>No</td>\n",
       "      <td>21 - 40 days</td>\n",
       "      <td>...</td>\n",
       "      <td>No</td>\n",
       "      <td>No</td>\n",
       "      <td>No</td>\n",
       "      <td>Yes</td>\n",
       "      <td>No</td>\n",
       "      <td>No</td>\n",
       "      <td>No</td>\n",
       "      <td>No</td>\n",
       "      <td>Consist of high fiber and balance between carb...</td>\n",
       "      <td>I Don't know</td>\n",
       "    </tr>\n",
       "    <tr>\n",
       "      <th>7</th>\n",
       "      <td>19-34</td>\n",
       "      <td>Employed</td>\n",
       "      <td>Unmarried</td>\n",
       "      <td>0</td>\n",
       "      <td>I am at a healthy weight</td>\n",
       "      <td>Mood Swings</td>\n",
       "      <td>No</td>\n",
       "      <td>No</td>\n",
       "      <td>No</td>\n",
       "      <td>21 - 40 days</td>\n",
       "      <td>...</td>\n",
       "      <td>No</td>\n",
       "      <td>No</td>\n",
       "      <td>No</td>\n",
       "      <td>No</td>\n",
       "      <td>No</td>\n",
       "      <td>No</td>\n",
       "      <td>Yes</td>\n",
       "      <td>No</td>\n",
       "      <td>Consist of high fiber and balance between carb...</td>\n",
       "      <td>No</td>\n",
       "    </tr>\n",
       "    <tr>\n",
       "      <th>8</th>\n",
       "      <td>19-34</td>\n",
       "      <td>Student</td>\n",
       "      <td>Unmarried</td>\n",
       "      <td>0</td>\n",
       "      <td>I am at a healthy weight</td>\n",
       "      <td>None</td>\n",
       "      <td>Yes</td>\n",
       "      <td>No</td>\n",
       "      <td>No</td>\n",
       "      <td>More than 40 days</td>\n",
       "      <td>...</td>\n",
       "      <td>No</td>\n",
       "      <td>No</td>\n",
       "      <td>Yes</td>\n",
       "      <td>Yes</td>\n",
       "      <td>No</td>\n",
       "      <td>No</td>\n",
       "      <td>Yes</td>\n",
       "      <td>Yes</td>\n",
       "      <td>Consist of packaged/processed food</td>\n",
       "      <td>Yes</td>\n",
       "    </tr>\n",
       "    <tr>\n",
       "      <th>9</th>\n",
       "      <td>19-34</td>\n",
       "      <td>Unemployed</td>\n",
       "      <td>Married</td>\n",
       "      <td>2</td>\n",
       "      <td>I am at a healthy weight</td>\n",
       "      <td>None</td>\n",
       "      <td>No</td>\n",
       "      <td>No</td>\n",
       "      <td>Yes</td>\n",
       "      <td>21 - 40 days</td>\n",
       "      <td>...</td>\n",
       "      <td>No</td>\n",
       "      <td>No</td>\n",
       "      <td>No</td>\n",
       "      <td>No</td>\n",
       "      <td>No</td>\n",
       "      <td>No</td>\n",
       "      <td>No</td>\n",
       "      <td>No</td>\n",
       "      <td>Consist of high fiber and balance between carb...</td>\n",
       "      <td>No</td>\n",
       "    </tr>\n",
       "  </tbody>\n",
       "</table>\n",
       "<p>10 rows × 24 columns</p>\n",
       "</div>"
      ],
      "text/plain": [
       "  age limit  Profession marital status no of kids                 body type  \\\n",
       "0     19-34     Student      Unmarried          0  I am at a healthy weight   \n",
       "1     19-34     Student      Unmarried          0  I am at a healthy weight   \n",
       "2     19-34    Employed      Unmarried          0     I am a bit overweight   \n",
       "3     19-34     Student      Unmarried          0     I am a bit overweight   \n",
       "4     19-34     Student      Unmarried          0  I am at a healthy weight   \n",
       "5     19-34     Student      Unmarried          0     I am a bit overweight   \n",
       "6   35 - 50  Unemployed      Unmarried          2  I am at a healthy weight   \n",
       "7     19-34    Employed      Unmarried          0  I am at a healthy weight   \n",
       "8     19-34     Student      Unmarried          0  I am at a healthy weight   \n",
       "9     19-34  Unemployed        Married          2  I am at a healthy weight   \n",
       "\n",
       "            PMS regular periods painful periods excessive bleeding  \\\n",
       "0  Constipation              No             Yes                 No   \n",
       "1   Mood Swings              No              No                 No   \n",
       "2   Mood Swings              No             Yes                 No   \n",
       "3  Constipation             Yes             Yes                Yes   \n",
       "4   Mood Swings              No              No                Yes   \n",
       "5          None              No              No                 No   \n",
       "6          None              No             Yes                 No   \n",
       "7   Mood Swings              No              No                 No   \n",
       "8          None             Yes              No                 No   \n",
       "9          None              No              No                Yes   \n",
       "\n",
       "        period cycle  ... diabetes hypothyroid excessive hair growth acne  \\\n",
       "0       21 - 40 days  ...       No          No                    No   No   \n",
       "1       21 - 40 days  ...       No          No                    No  Yes   \n",
       "2       21 - 40 days  ...       No          No                    No  Yes   \n",
       "3  Less than 21 days  ...       No          No                    No  Yes   \n",
       "4  Less than 21 days  ...       No          No                    No   No   \n",
       "5       21 - 40 days  ...       No          No                    No  Yes   \n",
       "6       21 - 40 days  ...       No          No                    No  Yes   \n",
       "7       21 - 40 days  ...       No          No                    No   No   \n",
       "8  More than 40 days  ...       No          No                   Yes  Yes   \n",
       "9       21 - 40 days  ...       No          No                    No   No   \n",
       "\n",
       "  alcohol habit smoking habit stress regular excercise  \\\n",
       "0            No            No     No               Yes   \n",
       "1            No            No     No                No   \n",
       "2            No            No     No               Yes   \n",
       "3            No            No    Yes                No   \n",
       "4            No            No     No                No   \n",
       "5            No            No     No               Yes   \n",
       "6            No            No     No                No   \n",
       "7            No            No    Yes                No   \n",
       "8            No            No    Yes               Yes   \n",
       "9            No            No     No                No   \n",
       "\n",
       "                                                diet     diagnosis  \n",
       "0                 Consist of packaged/processed food  I Don't know  \n",
       "1                 Consist of packaged/processed food  I Don't know  \n",
       "2  Consist of high fiber and balance between carb...            No  \n",
       "3                 Consist of packaged/processed food  I Don't know  \n",
       "4                 Consist of packaged/processed food  I Don't know  \n",
       "5  Consist of high fiber and balance between carb...            No  \n",
       "6  Consist of high fiber and balance between carb...  I Don't know  \n",
       "7  Consist of high fiber and balance between carb...            No  \n",
       "8                 Consist of packaged/processed food           Yes  \n",
       "9  Consist of high fiber and balance between carb...            No  \n",
       "\n",
       "[10 rows x 24 columns]"
      ]
     },
     "execution_count": 9,
     "metadata": {},
     "output_type": "execute_result"
    }
   ],
   "source": [
    "df.head(10)"
   ]
  },
  {
   "cell_type": "code",
   "execution_count": 10,
   "metadata": {
    "colab": {
     "base_uri": "https://localhost:8080/"
    },
    "id": "qYFpHtYDlchX",
    "outputId": "f2006678-be3e-4d0f-d54e-3173458b402d"
   },
   "outputs": [
    {
     "data": {
      "text/plain": [
       "age limit                0\n",
       "Profession               0\n",
       "marital status           0\n",
       "no of kids               0\n",
       "body type                0\n",
       "PMS                      0\n",
       "regular periods          0\n",
       "painful periods          0\n",
       "excessive bleeding       0\n",
       "period cycle             0\n",
       "period length            0\n",
       "period pain scale        0\n",
       "period clots             0\n",
       "genetic PCOS             0\n",
       "diabetes                 0\n",
       "hypothyroid              0\n",
       "excessive hair growth    0\n",
       "acne                     0\n",
       "alcohol habit            0\n",
       "smoking habit            0\n",
       "stress                   0\n",
       "regular excercise        0\n",
       "diet                     0\n",
       "diagnosis                0\n",
       "dtype: int64"
      ]
     },
     "execution_count": 10,
     "metadata": {},
     "output_type": "execute_result"
    }
   ],
   "source": [
    "#Checking missing values\n",
    "df.isna().sum()"
   ]
  },
  {
   "cell_type": "code",
   "execution_count": 11,
   "metadata": {
    "id": "PLXUmA2Nleo-"
   },
   "outputs": [],
   "source": [
    "df2=df1=df"
   ]
  },
  {
   "cell_type": "code",
   "execution_count": 12,
   "metadata": {
    "colab": {
     "base_uri": "https://localhost:8080/"
    },
    "id": "WRvTlaBBleql",
    "outputId": "df36355e-cb51-4515-9929-db7dcbd0e1d3"
   },
   "outputs": [
    {
     "data": {
      "text/plain": [
       "(40, 23)"
      ]
     },
     "execution_count": 12,
     "metadata": {},
     "output_type": "execute_result"
    }
   ],
   "source": [
    "df1=df1[df1['diagnosis'] == 'I Don\\'t know']\n",
    "#Dropping diagnosis column of predictive dataset as it contains only 'I Don't know'\n",
    "df1=df1.drop(['diagnosis'],axis=1)\n",
    "df1.shape"
   ]
  },
  {
   "cell_type": "code",
   "execution_count": 13,
   "metadata": {
    "colab": {
     "base_uri": "https://localhost:8080/"
    },
    "id": "dQ7cHkVjleuq",
    "outputId": "0b3aac7c-fbb3-4ed4-8a71-34efea3edba3"
   },
   "outputs": [
    {
     "data": {
      "text/plain": [
       "(126, 24)"
      ]
     },
     "execution_count": 13,
     "metadata": {},
     "output_type": "execute_result"
    }
   ],
   "source": [
    "#Data for modeling\n",
    "df2.drop(df2[df2['diagnosis'] == 'I Don\\'t know'].index, inplace = True)\n",
    "df2.shape"
   ]
  },
  {
   "cell_type": "code",
   "execution_count": 14,
   "metadata": {
    "id": "pKA5AtQwlewG"
   },
   "outputs": [],
   "source": [
    "df.to_excel(r'C:\\Users\\Dell\\Desktop\\project\\datacleaned.xlsx')"
   ]
  },
  {
   "cell_type": "code",
   "execution_count": 15,
   "metadata": {
    "colab": {
     "base_uri": "https://localhost:8080/"
    },
    "id": "-jjixJAnmVD3",
    "outputId": "87a56461-867a-41e3-8915-4a02060968bd"
   },
   "outputs": [
    {
     "name": "stdout",
     "output_type": "stream",
     "text": [
      "Number of numerical variables:  0\n",
      "[]\n"
     ]
    }
   ],
   "source": [
    "# list of numerical variables\n",
    "numerical = [feature for feature in df.columns if ((df[feature].dtypes != 'O') & (feature not in ['deposit']))]\n",
    "print('Number of numerical variables: ', len(numerical))\n",
    "\n",
    "print(numerical)"
   ]
  },
  {
   "cell_type": "code",
   "execution_count": 16,
   "metadata": {
    "colab": {
     "base_uri": "https://localhost:8080/"
    },
    "id": "LWwN_x1-ma4o",
    "outputId": "77b5ba62-2f0f-4e46-92b3-402a6a2e13d2"
   },
   "outputs": [
    {
     "name": "stdout",
     "output_type": "stream",
     "text": [
      "Number of categorical variables:  24\n",
      "['age limit', 'Profession', 'marital status', 'no of kids', 'body type', 'PMS', 'regular periods', 'painful periods', 'excessive bleeding', 'period cycle', 'period length', 'period pain scale', 'period clots', 'genetic PCOS', 'diabetes', 'hypothyroid', 'excessive hair growth', 'acne', 'alcohol habit', 'smoking habit', 'stress', 'regular excercise', 'diet', 'diagnosis']\n"
     ]
    }
   ],
   "source": [
    "#list of categorical variables\n",
    "categorical=[]\n",
    "for col in df.select_dtypes(include='object').columns:\n",
    "    categorical.append(col)\n",
    "print('Number of categorical variables: ', len(categorical))\n",
    "print(categorical)"
   ]
  },
  {
   "cell_type": "code",
   "execution_count": 17,
   "metadata": {
    "id": "1yYvAZfDmcfY"
   },
   "outputs": [],
   "source": [
    "#Label Encoding for categorical variables in df1\n",
    "from sklearn import preprocessing\n",
    "for i in range(0,(len(categorical)-1)):\n",
    "    le=preprocessing.LabelEncoder()\n",
    "    le.fit(df1[categorical[i]])\n",
    "    df1[categorical[i]]=le.transform(df1[categorical[i]])"
   ]
  },
  {
   "cell_type": "code",
   "execution_count": 18,
   "metadata": {
    "id": "FhnC2o92mcbW"
   },
   "outputs": [],
   "source": [
    "#Label Encoding for categorical variables in df2\n",
    "from sklearn import preprocessing\n",
    "for i in range(0,len(categorical)):\n",
    "    le=preprocessing.LabelEncoder()\n",
    "    le.fit(df2[categorical[i]])\n",
    "    df2[categorical[i]]=le.transform(df2[categorical[i]])"
   ]
  },
  {
   "cell_type": "code",
   "execution_count": 19,
   "metadata": {
    "colab": {
     "base_uri": "https://localhost:8080/"
    },
    "id": "X3RoAtulmcZl",
    "outputId": "a4dd383e-0fde-444a-b495-60c01bba20e9"
   },
   "outputs": [
    {
     "name": "stdout",
     "output_type": "stream",
     "text": [
      "The dependent variable is diagnosis and the independent variables are  ['age limit', 'Profession', 'marital status', 'no of kids', 'body type', 'PMS', 'regular periods', 'painful periods', 'excessive bleeding', 'period cycle', 'period length', 'period pain scale', 'period clots', 'genetic PCOS', 'diabetes', 'hypothyroid', 'excessive hair growth', 'acne', 'alcohol habit', 'smoking habit', 'stress', 'regular excercise', 'diet']\n"
     ]
    }
   ],
   "source": [
    "y=df2[\"diagnosis\"]\n",
    "X=df2.drop(['diagnosis'],axis=1)\n",
    "print('The dependent variable is diagnosis and the independent variables are ',list(X.columns))"
   ]
  },
  {
   "cell_type": "code",
   "execution_count": 20,
   "metadata": {
    "colab": {
     "base_uri": "https://localhost:8080/",
     "height": 491
    },
    "id": "YXL36j2qmoE-",
    "outputId": "0855c623-1b37-4bf0-9fc8-e93d61be34c0"
   },
   "outputs": [
    {
     "data": {
      "text/html": [
       "<div>\n",
       "<style scoped>\n",
       "    .dataframe tbody tr th:only-of-type {\n",
       "        vertical-align: middle;\n",
       "    }\n",
       "\n",
       "    .dataframe tbody tr th {\n",
       "        vertical-align: top;\n",
       "    }\n",
       "\n",
       "    .dataframe thead th {\n",
       "        text-align: right;\n",
       "    }\n",
       "</style>\n",
       "<table border=\"1\" class=\"dataframe\">\n",
       "  <thead>\n",
       "    <tr style=\"text-align: right;\">\n",
       "      <th></th>\n",
       "      <th>age limit</th>\n",
       "      <th>Profession</th>\n",
       "      <th>marital status</th>\n",
       "      <th>no of kids</th>\n",
       "      <th>body type</th>\n",
       "      <th>PMS</th>\n",
       "      <th>regular periods</th>\n",
       "      <th>painful periods</th>\n",
       "      <th>excessive bleeding</th>\n",
       "      <th>period cycle</th>\n",
       "      <th>...</th>\n",
       "      <th>diabetes</th>\n",
       "      <th>hypothyroid</th>\n",
       "      <th>excessive hair growth</th>\n",
       "      <th>acne</th>\n",
       "      <th>alcohol habit</th>\n",
       "      <th>smoking habit</th>\n",
       "      <th>stress</th>\n",
       "      <th>regular excercise</th>\n",
       "      <th>diet</th>\n",
       "      <th>diagnosis</th>\n",
       "    </tr>\n",
       "  </thead>\n",
       "  <tbody>\n",
       "    <tr>\n",
       "      <th>2</th>\n",
       "      <td>0</td>\n",
       "      <td>0</td>\n",
       "      <td>1</td>\n",
       "      <td>0</td>\n",
       "      <td>1</td>\n",
       "      <td>5</td>\n",
       "      <td>0</td>\n",
       "      <td>1</td>\n",
       "      <td>0</td>\n",
       "      <td>0</td>\n",
       "      <td>...</td>\n",
       "      <td>0</td>\n",
       "      <td>0</td>\n",
       "      <td>0</td>\n",
       "      <td>1</td>\n",
       "      <td>0</td>\n",
       "      <td>0</td>\n",
       "      <td>0</td>\n",
       "      <td>1</td>\n",
       "      <td>0</td>\n",
       "      <td>0</td>\n",
       "    </tr>\n",
       "    <tr>\n",
       "      <th>5</th>\n",
       "      <td>0</td>\n",
       "      <td>1</td>\n",
       "      <td>1</td>\n",
       "      <td>0</td>\n",
       "      <td>1</td>\n",
       "      <td>6</td>\n",
       "      <td>0</td>\n",
       "      <td>0</td>\n",
       "      <td>0</td>\n",
       "      <td>0</td>\n",
       "      <td>...</td>\n",
       "      <td>0</td>\n",
       "      <td>0</td>\n",
       "      <td>0</td>\n",
       "      <td>1</td>\n",
       "      <td>0</td>\n",
       "      <td>0</td>\n",
       "      <td>0</td>\n",
       "      <td>1</td>\n",
       "      <td>0</td>\n",
       "      <td>0</td>\n",
       "    </tr>\n",
       "    <tr>\n",
       "      <th>7</th>\n",
       "      <td>0</td>\n",
       "      <td>0</td>\n",
       "      <td>1</td>\n",
       "      <td>0</td>\n",
       "      <td>2</td>\n",
       "      <td>5</td>\n",
       "      <td>0</td>\n",
       "      <td>0</td>\n",
       "      <td>0</td>\n",
       "      <td>0</td>\n",
       "      <td>...</td>\n",
       "      <td>0</td>\n",
       "      <td>0</td>\n",
       "      <td>0</td>\n",
       "      <td>0</td>\n",
       "      <td>0</td>\n",
       "      <td>0</td>\n",
       "      <td>1</td>\n",
       "      <td>0</td>\n",
       "      <td>0</td>\n",
       "      <td>0</td>\n",
       "    </tr>\n",
       "    <tr>\n",
       "      <th>8</th>\n",
       "      <td>0</td>\n",
       "      <td>1</td>\n",
       "      <td>1</td>\n",
       "      <td>0</td>\n",
       "      <td>2</td>\n",
       "      <td>6</td>\n",
       "      <td>1</td>\n",
       "      <td>0</td>\n",
       "      <td>0</td>\n",
       "      <td>2</td>\n",
       "      <td>...</td>\n",
       "      <td>0</td>\n",
       "      <td>0</td>\n",
       "      <td>1</td>\n",
       "      <td>1</td>\n",
       "      <td>0</td>\n",
       "      <td>0</td>\n",
       "      <td>1</td>\n",
       "      <td>1</td>\n",
       "      <td>1</td>\n",
       "      <td>1</td>\n",
       "    </tr>\n",
       "    <tr>\n",
       "      <th>9</th>\n",
       "      <td>0</td>\n",
       "      <td>2</td>\n",
       "      <td>0</td>\n",
       "      <td>2</td>\n",
       "      <td>2</td>\n",
       "      <td>6</td>\n",
       "      <td>0</td>\n",
       "      <td>0</td>\n",
       "      <td>1</td>\n",
       "      <td>0</td>\n",
       "      <td>...</td>\n",
       "      <td>0</td>\n",
       "      <td>0</td>\n",
       "      <td>0</td>\n",
       "      <td>0</td>\n",
       "      <td>0</td>\n",
       "      <td>0</td>\n",
       "      <td>0</td>\n",
       "      <td>0</td>\n",
       "      <td>0</td>\n",
       "      <td>0</td>\n",
       "    </tr>\n",
       "    <tr>\n",
       "      <th>10</th>\n",
       "      <td>0</td>\n",
       "      <td>2</td>\n",
       "      <td>0</td>\n",
       "      <td>2</td>\n",
       "      <td>2</td>\n",
       "      <td>5</td>\n",
       "      <td>0</td>\n",
       "      <td>1</td>\n",
       "      <td>1</td>\n",
       "      <td>0</td>\n",
       "      <td>...</td>\n",
       "      <td>0</td>\n",
       "      <td>0</td>\n",
       "      <td>0</td>\n",
       "      <td>0</td>\n",
       "      <td>0</td>\n",
       "      <td>0</td>\n",
       "      <td>0</td>\n",
       "      <td>0</td>\n",
       "      <td>0</td>\n",
       "      <td>0</td>\n",
       "    </tr>\n",
       "    <tr>\n",
       "      <th>12</th>\n",
       "      <td>0</td>\n",
       "      <td>0</td>\n",
       "      <td>1</td>\n",
       "      <td>0</td>\n",
       "      <td>1</td>\n",
       "      <td>1</td>\n",
       "      <td>0</td>\n",
       "      <td>0</td>\n",
       "      <td>0</td>\n",
       "      <td>0</td>\n",
       "      <td>...</td>\n",
       "      <td>0</td>\n",
       "      <td>0</td>\n",
       "      <td>0</td>\n",
       "      <td>0</td>\n",
       "      <td>0</td>\n",
       "      <td>0</td>\n",
       "      <td>0</td>\n",
       "      <td>1</td>\n",
       "      <td>0</td>\n",
       "      <td>0</td>\n",
       "    </tr>\n",
       "    <tr>\n",
       "      <th>13</th>\n",
       "      <td>0</td>\n",
       "      <td>1</td>\n",
       "      <td>1</td>\n",
       "      <td>0</td>\n",
       "      <td>1</td>\n",
       "      <td>5</td>\n",
       "      <td>0</td>\n",
       "      <td>1</td>\n",
       "      <td>0</td>\n",
       "      <td>0</td>\n",
       "      <td>...</td>\n",
       "      <td>0</td>\n",
       "      <td>0</td>\n",
       "      <td>0</td>\n",
       "      <td>0</td>\n",
       "      <td>0</td>\n",
       "      <td>0</td>\n",
       "      <td>0</td>\n",
       "      <td>0</td>\n",
       "      <td>0</td>\n",
       "      <td>0</td>\n",
       "    </tr>\n",
       "    <tr>\n",
       "      <th>14</th>\n",
       "      <td>0</td>\n",
       "      <td>1</td>\n",
       "      <td>1</td>\n",
       "      <td>0</td>\n",
       "      <td>2</td>\n",
       "      <td>6</td>\n",
       "      <td>0</td>\n",
       "      <td>0</td>\n",
       "      <td>0</td>\n",
       "      <td>0</td>\n",
       "      <td>...</td>\n",
       "      <td>0</td>\n",
       "      <td>0</td>\n",
       "      <td>0</td>\n",
       "      <td>0</td>\n",
       "      <td>0</td>\n",
       "      <td>0</td>\n",
       "      <td>0</td>\n",
       "      <td>0</td>\n",
       "      <td>0</td>\n",
       "      <td>0</td>\n",
       "    </tr>\n",
       "    <tr>\n",
       "      <th>15</th>\n",
       "      <td>0</td>\n",
       "      <td>1</td>\n",
       "      <td>1</td>\n",
       "      <td>0</td>\n",
       "      <td>2</td>\n",
       "      <td>5</td>\n",
       "      <td>0</td>\n",
       "      <td>0</td>\n",
       "      <td>0</td>\n",
       "      <td>0</td>\n",
       "      <td>...</td>\n",
       "      <td>0</td>\n",
       "      <td>0</td>\n",
       "      <td>0</td>\n",
       "      <td>0</td>\n",
       "      <td>0</td>\n",
       "      <td>0</td>\n",
       "      <td>0</td>\n",
       "      <td>1</td>\n",
       "      <td>0</td>\n",
       "      <td>0</td>\n",
       "    </tr>\n",
       "  </tbody>\n",
       "</table>\n",
       "<p>10 rows × 24 columns</p>\n",
       "</div>"
      ],
      "text/plain": [
       "    age limit  Profession  marital status  no of kids  body type  PMS  \\\n",
       "2           0           0               1           0          1    5   \n",
       "5           0           1               1           0          1    6   \n",
       "7           0           0               1           0          2    5   \n",
       "8           0           1               1           0          2    6   \n",
       "9           0           2               0           2          2    6   \n",
       "10          0           2               0           2          2    5   \n",
       "12          0           0               1           0          1    1   \n",
       "13          0           1               1           0          1    5   \n",
       "14          0           1               1           0          2    6   \n",
       "15          0           1               1           0          2    5   \n",
       "\n",
       "    regular periods  painful periods  excessive bleeding  period cycle  ...  \\\n",
       "2                 0                1                   0             0  ...   \n",
       "5                 0                0                   0             0  ...   \n",
       "7                 0                0                   0             0  ...   \n",
       "8                 1                0                   0             2  ...   \n",
       "9                 0                0                   1             0  ...   \n",
       "10                0                1                   1             0  ...   \n",
       "12                0                0                   0             0  ...   \n",
       "13                0                1                   0             0  ...   \n",
       "14                0                0                   0             0  ...   \n",
       "15                0                0                   0             0  ...   \n",
       "\n",
       "    diabetes  hypothyroid  excessive hair growth  acne  alcohol habit  \\\n",
       "2          0            0                      0     1              0   \n",
       "5          0            0                      0     1              0   \n",
       "7          0            0                      0     0              0   \n",
       "8          0            0                      1     1              0   \n",
       "9          0            0                      0     0              0   \n",
       "10         0            0                      0     0              0   \n",
       "12         0            0                      0     0              0   \n",
       "13         0            0                      0     0              0   \n",
       "14         0            0                      0     0              0   \n",
       "15         0            0                      0     0              0   \n",
       "\n",
       "    smoking habit  stress  regular excercise  diet  diagnosis  \n",
       "2               0       0                  1     0          0  \n",
       "5               0       0                  1     0          0  \n",
       "7               0       1                  0     0          0  \n",
       "8               0       1                  1     1          1  \n",
       "9               0       0                  0     0          0  \n",
       "10              0       0                  0     0          0  \n",
       "12              0       0                  1     0          0  \n",
       "13              0       0                  0     0          0  \n",
       "14              0       0                  0     0          0  \n",
       "15              0       0                  1     0          0  \n",
       "\n",
       "[10 rows x 24 columns]"
      ]
     },
     "execution_count": 20,
     "metadata": {},
     "output_type": "execute_result"
    }
   ],
   "source": [
    "df2.head(10)"
   ]
  },
  {
   "cell_type": "code",
   "execution_count": 21,
   "metadata": {
    "colab": {
     "base_uri": "https://localhost:8080/"
    },
    "id": "GE4lj0spmqAh",
    "outputId": "1fa06b5f-bfd2-47d7-a8d7-70b79eb95fe1"
   },
   "outputs": [
    {
     "data": {
      "text/plain": [
       "(126, 24)"
      ]
     },
     "execution_count": 21,
     "metadata": {},
     "output_type": "execute_result"
    }
   ],
   "source": [
    "df2.shape"
   ]
  },
  {
   "cell_type": "code",
   "execution_count": 22,
   "metadata": {
    "colab": {
     "base_uri": "https://localhost:8080/"
    },
    "id": "fL3sCpRZmqCL",
    "outputId": "ca834985-c14d-49b6-d239-5b392d340936"
   },
   "outputs": [
    {
     "name": "stdout",
     "output_type": "stream",
     "text": [
      "<class 'pandas.core.frame.DataFrame'>\n",
      "Int64Index: 126 entries, 2 to 165\n",
      "Data columns (total 24 columns):\n",
      " #   Column                 Non-Null Count  Dtype\n",
      "---  ------                 --------------  -----\n",
      " 0   age limit              126 non-null    int32\n",
      " 1   Profession             126 non-null    int32\n",
      " 2   marital status         126 non-null    int32\n",
      " 3   no of kids             126 non-null    int32\n",
      " 4   body type              126 non-null    int32\n",
      " 5   PMS                    126 non-null    int32\n",
      " 6   regular periods        126 non-null    int32\n",
      " 7   painful periods        126 non-null    int32\n",
      " 8   excessive bleeding     126 non-null    int32\n",
      " 9   period cycle           126 non-null    int32\n",
      " 10  period length          126 non-null    int32\n",
      " 11  period pain scale      126 non-null    int32\n",
      " 12  period clots           126 non-null    int32\n",
      " 13  genetic PCOS           126 non-null    int32\n",
      " 14  diabetes               126 non-null    int32\n",
      " 15  hypothyroid            126 non-null    int32\n",
      " 16  excessive hair growth  126 non-null    int32\n",
      " 17  acne                   126 non-null    int32\n",
      " 18  alcohol habit          126 non-null    int32\n",
      " 19  smoking habit          126 non-null    int32\n",
      " 20  stress                 126 non-null    int32\n",
      " 21  regular excercise      126 non-null    int32\n",
      " 22  diet                   126 non-null    int32\n",
      " 23  diagnosis              126 non-null    int32\n",
      "dtypes: int32(24)\n",
      "memory usage: 12.8 KB\n"
     ]
    }
   ],
   "source": [
    "df2.info()"
   ]
  },
  {
   "cell_type": "code",
   "execution_count": 23,
   "metadata": {
    "colab": {
     "base_uri": "https://localhost:8080/",
     "height": 1000
    },
    "id": "7r3zKAxHmqGb",
    "outputId": "5df88244-68b3-4c07-831d-0bb4b14682e4"
   },
   "outputs": [
    {
     "data": {
      "image/png": "[encoded data removed]",
      "text/plain": [
       "<Figure size 1440x2520 with 24 Axes>"
      ]
     },
     "metadata": {
      "needs_background": "light"
     },
     "output_type": "display_data"
    }
   ],
   "source": [
    "import warnings\n",
    "warnings.filterwarnings('ignore')\n",
    "col=list(df2.columns)\n",
    "plt.rcParams['figure.figsize'] = (20, 35)\n",
    "plotnumber =1\n",
    "for i in range (0,len(col)):\n",
    "    plt.subplot(7, 4, plotnumber)\n",
    "    sns.countplot(df2[col[i]])\n",
    "    str='Distribution of '+col[i]\n",
    "    plt.title(str, fontsize = 20)\n",
    "    plt.xlabel(col[i])\n",
    "    plt.ylabel('Count')\n",
    "    plotnumber+=1"
   ]
  },
  {
   "cell_type": "code",
   "execution_count": 24,
   "metadata": {
    "colab": {
     "base_uri": "https://localhost:8080/",
     "height": 561
    },
    "id": "19cCMi_OmySP",
    "outputId": "9a374f98-bd59-4a78-f345-12b893a1d7c0"
   },
   "outputs": [
    {
     "data": {
      "text/plain": [
       "Text(0.5, 1, 'Heat Map')"
      ]
     },
     "execution_count": 24,
     "metadata": {},
     "output_type": "execute_result"
    },
    {
     "data": {
      "image/png": "[encoded data removed]",
      "text/plain": [
       "<Figure size 1080x504 with 2 Axes>"
      ]
     },
     "metadata": {
      "needs_background": "light"
     },
     "output_type": "display_data"
    }
   ],
   "source": [
    "## Checking for correlation\n",
    "import matplotlib.pyplot as plt\n",
    "import seaborn as sns\n",
    "cor_mat=df2.corr()\n",
    "fig = plt.figure(figsize=(15,7))\n",
    "sns.heatmap(cor_mat,annot=True)\n",
    "plt.title('Heat Map')"
   ]
  },
  {
   "cell_type": "code",
   "execution_count": 25,
   "metadata": {
    "colab": {
     "base_uri": "https://localhost:8080/"
    },
    "id": "eyciixHPmyTe",
    "outputId": "b168ad61-6a66-4cbf-f0b3-236ede833b52"
   },
   "outputs": [
    {
     "name": "stdout",
     "output_type": "stream",
     "text": [
      "There are  5 relevant features out of which diagnosis is the target variable\n"
     ]
    },
    {
     "data": {
      "text/plain": [
       "regular periods          0.528616\n",
       "period cycle             0.572458\n",
       "period pain scale        0.351006\n",
       "excessive hair growth    0.314092\n",
       "stress                   0.316228\n",
       "Name: diagnosis, dtype: float64"
      ]
     },
     "execution_count": 25,
     "metadata": {},
     "output_type": "execute_result"
    }
   ],
   "source": [
    "cor=df2.corr()\n",
    "cor_target = abs(cor['diagnosis'])\n",
    "#Selecting highly correlated features\n",
    "relevant_features = cor_target[cor_target>0.3]\n",
    "print('There are ',(len(relevant_features)-1),'relevant features out of which diagnosis is the target variable')\n",
    "relevant_features[0:(len(relevant_features)-1)]"
   ]
  },
  {
   "cell_type": "code",
   "execution_count": 26,
   "metadata": {
    "colab": {
     "base_uri": "https://localhost:8080/"
    },
    "id": "vXevItlXmyYe",
    "outputId": "57359bed-c191-4731-d1a2-02fcb433043b"
   },
   "outputs": [
    {
     "name": "stdout",
     "output_type": "stream",
     "text": [
      "['regular periods ', 'painful periods', 'period_cycle', 'period pain scale', 'excessive hair growth', 'stress']\n"
     ]
    }
   ],
   "source": [
    "relevant_features=['regular periods ','painful periods','period_cycle','period pain scale','excessive hair growth','stress']\n",
    "print(relevant_features)"
   ]
  },
  {
   "cell_type": "code",
   "execution_count": 27,
   "metadata": {},
   "outputs": [],
   "source": [
    "relevant_features_df = df2[['regular periods','painful periods','period cycle','period pain scale','excessive hair growth','stress']].copy()"
   ]
  },
  {
   "cell_type": "code",
   "execution_count": 28,
   "metadata": {
    "id": "H82qcA-OoKXn"
   },
   "outputs": [],
   "source": [
    "X_train,X_test,y_train,y_test=train_test_split(relevant_features_df,y,test_size=0.2,random_state=0)"
   ]
  },
  {
   "cell_type": "code",
   "execution_count": 29,
   "metadata": {
    "colab": {
     "base_uri": "https://localhost:8080/"
    },
    "id": "8MShgl6OoKZI",
    "outputId": "ed10e2e9-8dec-48f3-a38e-ce8dfbfe5dea"
   },
   "outputs": [
    {
     "data": {
      "text/plain": [
       "(100, 6)"
      ]
     },
     "execution_count": 29,
     "metadata": {},
     "output_type": "execute_result"
    }
   ],
   "source": [
    "X_train.shape"
   ]
  },
  {
   "cell_type": "code",
   "execution_count": 30,
   "metadata": {
    "colab": {
     "base_uri": "https://localhost:8080/"
    },
    "id": "v23IWr6WoKd3",
    "outputId": "71a23d79-c5d1-43a0-907b-ca3ba393e57e"
   },
   "outputs": [
    {
     "data": {
      "text/plain": [
       "(26, 6)"
      ]
     },
     "execution_count": 30,
     "metadata": {},
     "output_type": "execute_result"
    }
   ],
   "source": [
    "X_test.shape"
   ]
  },
  {
   "cell_type": "code",
   "execution_count": 31,
   "metadata": {
    "colab": {
     "base_uri": "https://localhost:8080/"
    },
    "id": "1oIHidpZog0_",
    "outputId": "92f866ca-f278-4a61-ba98-dd457739d7a9"
   },
   "outputs": [
    {
     "name": "stdout",
     "output_type": "stream",
     "text": [
      "Accuracy is  80.77 %\n"
     ]
    }
   ],
   "source": [
    "#Logistic Regression\n",
    "clf=LogisticRegression()\n",
    "model=clf.fit(X_train,y_train)\n",
    "y_pred=model.predict(X_test)\n",
    "ac=accuracy_score(y_test,y_pred,normalize=True)\n",
    "b=np.round(ac*100,2)\n",
    "print('Accuracy is ',b,'%')"
   ]
  },
  {
   "cell_type": "code",
   "execution_count": 32,
   "metadata": {
    "colab": {
     "base_uri": "https://localhost:8080/",
     "height": 415
    },
    "id": "xbrxZZqQomCs",
    "outputId": "5675c427-fef1-4bd7-8d53-22abdf8208b0"
   },
   "outputs": [
    {
     "name": "stdout",
     "output_type": "stream",
     "text": [
      "Score in Test Data : 0.8076923076923077\n",
      "Right classification : 21\n",
      "Wrong classification : 5\n"
     ]
    },
    {
     "data": {
      "text/plain": [
       "<Figure size 360x360 with 0 Axes>"
      ]
     },
     "metadata": {},
     "output_type": "display_data"
    },
    {
     "data": {
      "image/png": "[encoded data removed]",
      "text/plain": [
       "<Figure size 1440x2520 with 2 Axes>"
      ]
     },
     "metadata": {
      "needs_background": "light"
     },
     "output_type": "display_data"
    }
   ],
   "source": [
    "#Model Evaluation of logistic Regression\n",
    "plt.figure(figsize=(5,5))\n",
    "print(f\"Score in Test Data : {model.score(X_test,y_test)}\")\n",
    "#plt.figure(figsize=(5,5))\n",
    "cm=confusion_matrix(y_test, y_pred)\n",
    "p_right=cm[0][0]+cm[1][1]\n",
    "p_wrong=cm[0][1]+cm[1][0]\n",
    "\n",
    "print(f\"Right classification : {p_right}\")\n",
    "print(f\"Wrong classification : {p_wrong}\")\n",
    "#plt.figure(figsize=(5,5))\n",
    "plot_confusion_matrix(clf, X_test, y_test,cmap=plt.cm.Blues)  \n",
    "plt.title('Confusion Matrix')\n",
    "plt.show()"
   ]
  },
  {
   "cell_type": "code",
   "execution_count": 33,
   "metadata": {
    "colab": {
     "base_uri": "https://localhost:8080/"
    },
    "id": "zNIZqwyFpFpN",
    "outputId": "3fb8d36f-0f8f-4cfe-d548-4e9e13b764b0"
   },
   "outputs": [
    {
     "name": "stdout",
     "output_type": "stream",
     "text": [
      "The independent variables are  ['regular periods', 'painful periods', 'period cycle', 'period pain scale', 'excessive hair growth', 'stress']\n"
     ]
    },
    {
     "data": {
      "text/plain": [
       "(40, 6)"
      ]
     },
     "execution_count": 33,
     "metadata": {},
     "output_type": "execute_result"
    }
   ],
   "source": [
    "X2=df1[['regular periods','painful periods','period cycle','period pain scale','excessive hair growth','stress']].copy()\n",
    "print('The independent variables are ',list(X2.columns))\n",
    "X2.shape"
   ]
  },
  {
   "cell_type": "code",
   "execution_count": 34,
   "metadata": {},
   "outputs": [],
   "source": [
    "clf=LogisticRegression()\n",
    "model=clf.fit(relevant_features_df,y)\n",
    "y_pred=model.predict(X2)"
   ]
  },
  {
   "cell_type": "code",
   "execution_count": 35,
   "metadata": {},
   "outputs": [
    {
     "data": {
      "text/html": [
       "<div>\n",
       "<style scoped>\n",
       "    .dataframe tbody tr th:only-of-type {\n",
       "        vertical-align: middle;\n",
       "    }\n",
       "\n",
       "    .dataframe tbody tr th {\n",
       "        vertical-align: top;\n",
       "    }\n",
       "\n",
       "    .dataframe thead th {\n",
       "        text-align: right;\n",
       "    }\n",
       "</style>\n",
       "<table border=\"1\" class=\"dataframe\">\n",
       "  <thead>\n",
       "    <tr style=\"text-align: right;\">\n",
       "      <th></th>\n",
       "      <th>diagnosis</th>\n",
       "    </tr>\n",
       "  </thead>\n",
       "  <tbody>\n",
       "    <tr>\n",
       "      <th>0</th>\n",
       "      <td>0</td>\n",
       "    </tr>\n",
       "    <tr>\n",
       "      <th>1</th>\n",
       "      <td>0</td>\n",
       "    </tr>\n",
       "    <tr>\n",
       "      <th>2</th>\n",
       "      <td>1</td>\n",
       "    </tr>\n",
       "    <tr>\n",
       "      <th>3</th>\n",
       "      <td>0</td>\n",
       "    </tr>\n",
       "    <tr>\n",
       "      <th>4</th>\n",
       "      <td>0</td>\n",
       "    </tr>\n",
       "    <tr>\n",
       "      <th>5</th>\n",
       "      <td>0</td>\n",
       "    </tr>\n",
       "    <tr>\n",
       "      <th>6</th>\n",
       "      <td>0</td>\n",
       "    </tr>\n",
       "    <tr>\n",
       "      <th>7</th>\n",
       "      <td>0</td>\n",
       "    </tr>\n",
       "    <tr>\n",
       "      <th>8</th>\n",
       "      <td>0</td>\n",
       "    </tr>\n",
       "    <tr>\n",
       "      <th>9</th>\n",
       "      <td>0</td>\n",
       "    </tr>\n",
       "  </tbody>\n",
       "</table>\n",
       "</div>"
      ],
      "text/plain": [
       "   diagnosis\n",
       "0          0\n",
       "1          0\n",
       "2          1\n",
       "3          0\n",
       "4          0\n",
       "5          0\n",
       "6          0\n",
       "7          0\n",
       "8          0\n",
       "9          0"
      ]
     },
     "execution_count": 35,
     "metadata": {},
     "output_type": "execute_result"
    }
   ],
   "source": [
    "df3=X2\n",
    "df4=pd.DataFrame(y_pred)\n",
    "pred_diag={0:'diagnosis'}\n",
    "df4.rename(pred_diag, axis=1, inplace=True)\n",
    "df4.head(10)"
   ]
  },
  {
   "cell_type": "code",
   "execution_count": 36,
   "metadata": {
    "colab": {
     "base_uri": "https://localhost:8080/"
    },
    "id": "B072pwtDpMB6",
    "outputId": "6e3cf7d1-a070-4160-8b96-0cbe095db23b"
   },
   "outputs": [
    {
     "data": {
      "text/plain": [
       "0    31\n",
       "1     9\n",
       "Name: diagnosis, dtype: int64"
      ]
     },
     "execution_count": 36,
     "metadata": {},
     "output_type": "execute_result"
    }
   ],
   "source": [
    "df4['diagnosis'].value_counts()"
   ]
  },
  {
   "cell_type": "code",
   "execution_count": 37,
   "metadata": {
    "colab": {
     "base_uri": "https://localhost:8080/",
     "height": 423
    },
    "id": "biqKIBWBpMDf",
    "outputId": "3fbd2bbb-e61a-42d8-b5c6-c71f28424169"
   },
   "outputs": [
    {
     "data": {
      "text/plain": [
       "Text(0.5, 1.0, 'Barplot for predicted diagnosis using Logistic Regression')"
      ]
     },
     "execution_count": 37,
     "metadata": {},
     "output_type": "execute_result"
    },
    {
     "data": {
      "image/png": "[encoded data removed]",
      "text/plain": [
       "<Figure size 1440x2520 with 1 Axes>"
      ]
     },
     "metadata": {
      "needs_background": "light"
     },
     "output_type": "display_data"
    }
   ],
   "source": [
    "sns.countplot(df4['diagnosis'])\n",
    "plt.title('Barplot for predicted diagnosis using Logistic Regression', fontsize = 15)"
   ]
  },
  {
   "cell_type": "code",
   "execution_count": 38,
   "metadata": {
    "colab": {
     "base_uri": "https://localhost:8080/",
     "height": 617
    },
    "id": "-uDAtdMupMHy",
    "outputId": "9b84a4eb-9b46-45c6-8312-8e80474eb416"
   },
   "outputs": [
    {
     "data": {
      "text/html": [
       "<div>\n",
       "<style scoped>\n",
       "    .dataframe tbody tr th:only-of-type {\n",
       "        vertical-align: middle;\n",
       "    }\n",
       "\n",
       "    .dataframe tbody tr th {\n",
       "        vertical-align: top;\n",
       "    }\n",
       "\n",
       "    .dataframe thead th {\n",
       "        text-align: right;\n",
       "    }\n",
       "</style>\n",
       "<table border=\"1\" class=\"dataframe\">\n",
       "  <thead>\n",
       "    <tr style=\"text-align: right;\">\n",
       "      <th></th>\n",
       "      <th>regular periods</th>\n",
       "      <th>painful periods</th>\n",
       "      <th>period cycle</th>\n",
       "      <th>period pain scale</th>\n",
       "      <th>excessive hair growth</th>\n",
       "      <th>stress</th>\n",
       "      <th>diagnosis</th>\n",
       "    </tr>\n",
       "  </thead>\n",
       "  <tbody>\n",
       "    <tr>\n",
       "      <th>0</th>\n",
       "      <td>0.0</td>\n",
       "      <td>1.0</td>\n",
       "      <td>0.0</td>\n",
       "      <td>3.0</td>\n",
       "      <td>0.0</td>\n",
       "      <td>0.0</td>\n",
       "      <td>0.0</td>\n",
       "    </tr>\n",
       "    <tr>\n",
       "      <th>1</th>\n",
       "      <td>0.0</td>\n",
       "      <td>0.0</td>\n",
       "      <td>0.0</td>\n",
       "      <td>0.0</td>\n",
       "      <td>0.0</td>\n",
       "      <td>0.0</td>\n",
       "      <td>0.0</td>\n",
       "    </tr>\n",
       "    <tr>\n",
       "      <th>3</th>\n",
       "      <td>1.0</td>\n",
       "      <td>1.0</td>\n",
       "      <td>1.0</td>\n",
       "      <td>3.0</td>\n",
       "      <td>0.0</td>\n",
       "      <td>1.0</td>\n",
       "      <td>0.0</td>\n",
       "    </tr>\n",
       "    <tr>\n",
       "      <th>4</th>\n",
       "      <td>0.0</td>\n",
       "      <td>0.0</td>\n",
       "      <td>1.0</td>\n",
       "      <td>1.0</td>\n",
       "      <td>0.0</td>\n",
       "      <td>0.0</td>\n",
       "      <td>0.0</td>\n",
       "    </tr>\n",
       "    <tr>\n",
       "      <th>6</th>\n",
       "      <td>0.0</td>\n",
       "      <td>1.0</td>\n",
       "      <td>0.0</td>\n",
       "      <td>1.0</td>\n",
       "      <td>0.0</td>\n",
       "      <td>0.0</td>\n",
       "      <td>0.0</td>\n",
       "    </tr>\n",
       "    <tr>\n",
       "      <th>11</th>\n",
       "      <td>1.0</td>\n",
       "      <td>1.0</td>\n",
       "      <td>1.0</td>\n",
       "      <td>1.0</td>\n",
       "      <td>0.0</td>\n",
       "      <td>0.0</td>\n",
       "      <td>0.0</td>\n",
       "    </tr>\n",
       "    <tr>\n",
       "      <th>21</th>\n",
       "      <td>0.0</td>\n",
       "      <td>1.0</td>\n",
       "      <td>0.0</td>\n",
       "      <td>3.0</td>\n",
       "      <td>0.0</td>\n",
       "      <td>0.0</td>\n",
       "      <td>0.0</td>\n",
       "    </tr>\n",
       "    <tr>\n",
       "      <th>24</th>\n",
       "      <td>0.0</td>\n",
       "      <td>0.0</td>\n",
       "      <td>0.0</td>\n",
       "      <td>3.0</td>\n",
       "      <td>0.0</td>\n",
       "      <td>0.0</td>\n",
       "      <td>0.0</td>\n",
       "    </tr>\n",
       "    <tr>\n",
       "      <th>25</th>\n",
       "      <td>1.0</td>\n",
       "      <td>1.0</td>\n",
       "      <td>1.0</td>\n",
       "      <td>0.0</td>\n",
       "      <td>0.0</td>\n",
       "      <td>0.0</td>\n",
       "      <td>0.0</td>\n",
       "    </tr>\n",
       "    <tr>\n",
       "      <th>26</th>\n",
       "      <td>0.0</td>\n",
       "      <td>0.0</td>\n",
       "      <td>0.0</td>\n",
       "      <td>2.0</td>\n",
       "      <td>0.0</td>\n",
       "      <td>0.0</td>\n",
       "      <td>0.0</td>\n",
       "    </tr>\n",
       "    <tr>\n",
       "      <th>27</th>\n",
       "      <td>0.0</td>\n",
       "      <td>1.0</td>\n",
       "      <td>0.0</td>\n",
       "      <td>1.0</td>\n",
       "      <td>1.0</td>\n",
       "      <td>1.0</td>\n",
       "      <td>0.0</td>\n",
       "    </tr>\n",
       "    <tr>\n",
       "      <th>31</th>\n",
       "      <td>1.0</td>\n",
       "      <td>0.0</td>\n",
       "      <td>0.0</td>\n",
       "      <td>1.0</td>\n",
       "      <td>1.0</td>\n",
       "      <td>0.0</td>\n",
       "      <td>1.0</td>\n",
       "    </tr>\n",
       "    <tr>\n",
       "      <th>37</th>\n",
       "      <td>0.0</td>\n",
       "      <td>1.0</td>\n",
       "      <td>0.0</td>\n",
       "      <td>1.0</td>\n",
       "      <td>0.0</td>\n",
       "      <td>0.0</td>\n",
       "      <td>1.0</td>\n",
       "    </tr>\n",
       "    <tr>\n",
       "      <th>38</th>\n",
       "      <td>1.0</td>\n",
       "      <td>1.0</td>\n",
       "      <td>0.0</td>\n",
       "      <td>1.0</td>\n",
       "      <td>0.0</td>\n",
       "      <td>0.0</td>\n",
       "      <td>1.0</td>\n",
       "    </tr>\n",
       "  </tbody>\n",
       "</table>\n",
       "</div>"
      ],
      "text/plain": [
       "    regular periods  painful periods  period cycle  period pain scale  \\\n",
       "0               0.0              1.0           0.0                3.0   \n",
       "1               0.0              0.0           0.0                0.0   \n",
       "3               1.0              1.0           1.0                3.0   \n",
       "4               0.0              0.0           1.0                1.0   \n",
       "6               0.0              1.0           0.0                1.0   \n",
       "11              1.0              1.0           1.0                1.0   \n",
       "21              0.0              1.0           0.0                3.0   \n",
       "24              0.0              0.0           0.0                3.0   \n",
       "25              1.0              1.0           1.0                0.0   \n",
       "26              0.0              0.0           0.0                2.0   \n",
       "27              0.0              1.0           0.0                1.0   \n",
       "31              1.0              0.0           0.0                1.0   \n",
       "37              0.0              1.0           0.0                1.0   \n",
       "38              1.0              1.0           0.0                1.0   \n",
       "\n",
       "    excessive hair growth  stress  diagnosis  \n",
       "0                     0.0     0.0        0.0  \n",
       "1                     0.0     0.0        0.0  \n",
       "3                     0.0     1.0        0.0  \n",
       "4                     0.0     0.0        0.0  \n",
       "6                     0.0     0.0        0.0  \n",
       "11                    0.0     0.0        0.0  \n",
       "21                    0.0     0.0        0.0  \n",
       "24                    0.0     0.0        0.0  \n",
       "25                    0.0     0.0        0.0  \n",
       "26                    0.0     0.0        0.0  \n",
       "27                    1.0     1.0        0.0  \n",
       "31                    1.0     0.0        1.0  \n",
       "37                    0.0     0.0        1.0  \n",
       "38                    0.0     0.0        1.0  "
      ]
     },
     "execution_count": 38,
     "metadata": {},
     "output_type": "execute_result"
    }
   ],
   "source": [
    "df5=pd.concat([df3,df4],axis=1)\n",
    "df5=df5.dropna()\n",
    "\n",
    "df5.head(15)"
   ]
  },
  {
   "cell_type": "code",
   "execution_count": 39,
   "metadata": {},
   "outputs": [
    {
     "data": {
      "text/plain": [
       "(14, 7)"
      ]
     },
     "execution_count": 39,
     "metadata": {},
     "output_type": "execute_result"
    }
   ],
   "source": [
    "df5.shape"
   ]
  },
  {
   "cell_type": "code",
   "execution_count": 40,
   "metadata": {},
   "outputs": [],
   "source": [
    "relevant_training_data = df2[['regular periods','painful periods','period cycle','period pain scale','excessive hair growth','stress','diagnosis']].copy()"
   ]
  },
  {
   "cell_type": "code",
   "execution_count": 41,
   "metadata": {},
   "outputs": [
    {
     "data": {
      "text/plain": [
       "(126, 7)"
      ]
     },
     "execution_count": 41,
     "metadata": {},
     "output_type": "execute_result"
    }
   ],
   "source": [
    "relevant_training_data.shape"
   ]
  },
  {
   "cell_type": "code",
   "execution_count": 42,
   "metadata": {},
   "outputs": [],
   "source": [
    "df5=df5.astype('int')"
   ]
  },
  {
   "cell_type": "code",
   "execution_count": 43,
   "metadata": {},
   "outputs": [
    {
     "data": {
      "text/plain": [
       "regular periods          int32\n",
       "painful periods          int32\n",
       "period cycle             int32\n",
       "period pain scale        int32\n",
       "excessive hair growth    int32\n",
       "stress                   int32\n",
       "diagnosis                int32\n",
       "dtype: object"
      ]
     },
     "execution_count": 43,
     "metadata": {},
     "output_type": "execute_result"
    }
   ],
   "source": [
    "df5.dtypes"
   ]
  },
  {
   "cell_type": "code",
   "execution_count": 44,
   "metadata": {},
   "outputs": [
    {
     "data": {
      "text/html": [
       "<div>\n",
       "<style scoped>\n",
       "    .dataframe tbody tr th:only-of-type {\n",
       "        vertical-align: middle;\n",
       "    }\n",
       "\n",
       "    .dataframe tbody tr th {\n",
       "        vertical-align: top;\n",
       "    }\n",
       "\n",
       "    .dataframe thead th {\n",
       "        text-align: right;\n",
       "    }\n",
       "</style>\n",
       "<table border=\"1\" class=\"dataframe\">\n",
       "  <thead>\n",
       "    <tr style=\"text-align: right;\">\n",
       "      <th></th>\n",
       "      <th>regular periods</th>\n",
       "      <th>painful periods</th>\n",
       "      <th>period cycle</th>\n",
       "      <th>period pain scale</th>\n",
       "      <th>excessive hair growth</th>\n",
       "      <th>stress</th>\n",
       "      <th>diagnosis</th>\n",
       "    </tr>\n",
       "  </thead>\n",
       "  <tbody>\n",
       "    <tr>\n",
       "      <th>2</th>\n",
       "      <td>0</td>\n",
       "      <td>1</td>\n",
       "      <td>0</td>\n",
       "      <td>1</td>\n",
       "      <td>0</td>\n",
       "      <td>0</td>\n",
       "      <td>0</td>\n",
       "    </tr>\n",
       "    <tr>\n",
       "      <th>5</th>\n",
       "      <td>0</td>\n",
       "      <td>0</td>\n",
       "      <td>0</td>\n",
       "      <td>2</td>\n",
       "      <td>0</td>\n",
       "      <td>0</td>\n",
       "      <td>0</td>\n",
       "    </tr>\n",
       "    <tr>\n",
       "      <th>7</th>\n",
       "      <td>0</td>\n",
       "      <td>0</td>\n",
       "      <td>0</td>\n",
       "      <td>1</td>\n",
       "      <td>0</td>\n",
       "      <td>1</td>\n",
       "      <td>0</td>\n",
       "    </tr>\n",
       "    <tr>\n",
       "      <th>8</th>\n",
       "      <td>1</td>\n",
       "      <td>0</td>\n",
       "      <td>2</td>\n",
       "      <td>2</td>\n",
       "      <td>1</td>\n",
       "      <td>1</td>\n",
       "      <td>1</td>\n",
       "    </tr>\n",
       "    <tr>\n",
       "      <th>9</th>\n",
       "      <td>0</td>\n",
       "      <td>0</td>\n",
       "      <td>0</td>\n",
       "      <td>0</td>\n",
       "      <td>0</td>\n",
       "      <td>0</td>\n",
       "      <td>0</td>\n",
       "    </tr>\n",
       "    <tr>\n",
       "      <th>10</th>\n",
       "      <td>0</td>\n",
       "      <td>1</td>\n",
       "      <td>0</td>\n",
       "      <td>1</td>\n",
       "      <td>0</td>\n",
       "      <td>0</td>\n",
       "      <td>0</td>\n",
       "    </tr>\n",
       "    <tr>\n",
       "      <th>12</th>\n",
       "      <td>0</td>\n",
       "      <td>0</td>\n",
       "      <td>0</td>\n",
       "      <td>1</td>\n",
       "      <td>0</td>\n",
       "      <td>0</td>\n",
       "      <td>0</td>\n",
       "    </tr>\n",
       "    <tr>\n",
       "      <th>13</th>\n",
       "      <td>0</td>\n",
       "      <td>1</td>\n",
       "      <td>0</td>\n",
       "      <td>1</td>\n",
       "      <td>0</td>\n",
       "      <td>0</td>\n",
       "      <td>0</td>\n",
       "    </tr>\n",
       "    <tr>\n",
       "      <th>14</th>\n",
       "      <td>0</td>\n",
       "      <td>0</td>\n",
       "      <td>0</td>\n",
       "      <td>0</td>\n",
       "      <td>0</td>\n",
       "      <td>0</td>\n",
       "      <td>0</td>\n",
       "    </tr>\n",
       "    <tr>\n",
       "      <th>15</th>\n",
       "      <td>0</td>\n",
       "      <td>0</td>\n",
       "      <td>0</td>\n",
       "      <td>0</td>\n",
       "      <td>0</td>\n",
       "      <td>0</td>\n",
       "      <td>0</td>\n",
       "    </tr>\n",
       "    <tr>\n",
       "      <th>16</th>\n",
       "      <td>1</td>\n",
       "      <td>1</td>\n",
       "      <td>0</td>\n",
       "      <td>0</td>\n",
       "      <td>0</td>\n",
       "      <td>1</td>\n",
       "      <td>0</td>\n",
       "    </tr>\n",
       "    <tr>\n",
       "      <th>17</th>\n",
       "      <td>0</td>\n",
       "      <td>1</td>\n",
       "      <td>1</td>\n",
       "      <td>1</td>\n",
       "      <td>0</td>\n",
       "      <td>0</td>\n",
       "      <td>0</td>\n",
       "    </tr>\n",
       "    <tr>\n",
       "      <th>18</th>\n",
       "      <td>0</td>\n",
       "      <td>1</td>\n",
       "      <td>0</td>\n",
       "      <td>1</td>\n",
       "      <td>1</td>\n",
       "      <td>0</td>\n",
       "      <td>0</td>\n",
       "    </tr>\n",
       "    <tr>\n",
       "      <th>19</th>\n",
       "      <td>0</td>\n",
       "      <td>1</td>\n",
       "      <td>0</td>\n",
       "      <td>1</td>\n",
       "      <td>1</td>\n",
       "      <td>1</td>\n",
       "      <td>1</td>\n",
       "    </tr>\n",
       "    <tr>\n",
       "      <th>20</th>\n",
       "      <td>1</td>\n",
       "      <td>1</td>\n",
       "      <td>0</td>\n",
       "      <td>0</td>\n",
       "      <td>0</td>\n",
       "      <td>0</td>\n",
       "      <td>0</td>\n",
       "    </tr>\n",
       "  </tbody>\n",
       "</table>\n",
       "</div>"
      ],
      "text/plain": [
       "    regular periods  painful periods  period cycle  period pain scale  \\\n",
       "2                 0                1             0                  1   \n",
       "5                 0                0             0                  2   \n",
       "7                 0                0             0                  1   \n",
       "8                 1                0             2                  2   \n",
       "9                 0                0             0                  0   \n",
       "10                0                1             0                  1   \n",
       "12                0                0             0                  1   \n",
       "13                0                1             0                  1   \n",
       "14                0                0             0                  0   \n",
       "15                0                0             0                  0   \n",
       "16                1                1             0                  0   \n",
       "17                0                1             1                  1   \n",
       "18                0                1             0                  1   \n",
       "19                0                1             0                  1   \n",
       "20                1                1             0                  0   \n",
       "\n",
       "    excessive hair growth  stress  diagnosis  \n",
       "2                       0       0          0  \n",
       "5                       0       0          0  \n",
       "7                       0       1          0  \n",
       "8                       1       1          1  \n",
       "9                       0       0          0  \n",
       "10                      0       0          0  \n",
       "12                      0       0          0  \n",
       "13                      0       0          0  \n",
       "14                      0       0          0  \n",
       "15                      0       0          0  \n",
       "16                      0       1          0  \n",
       "17                      0       0          0  \n",
       "18                      1       0          0  \n",
       "19                      1       1          1  \n",
       "20                      0       0          0  "
      ]
     },
     "execution_count": 44,
     "metadata": {},
     "output_type": "execute_result"
    }
   ],
   "source": [
    "df_final=pd.concat([relevant_training_data,df5],axis=0)\n",
    "df_final=df_final.dropna()\n",
    "df_final.head(15)"
   ]
  },
  {
   "cell_type": "code",
   "execution_count": 45,
   "metadata": {},
   "outputs": [
    {
     "data": {
      "text/plain": [
       "(140, 7)"
      ]
     },
     "execution_count": 45,
     "metadata": {},
     "output_type": "execute_result"
    }
   ],
   "source": [
    "df_final.shape"
   ]
  },
  {
   "cell_type": "code",
   "execution_count": 46,
   "metadata": {},
   "outputs": [
    {
     "name": "stdout",
     "output_type": "stream",
     "text": [
      "The dependent variable is diagnosis and the independent variables are  ['regular periods', 'painful periods', 'period cycle', 'period pain scale', 'excessive hair growth', 'stress']\n",
      "(140, 6)\n",
      "(140,)\n"
     ]
    }
   ],
   "source": [
    "y_re=df_final[\"diagnosis\"]\n",
    "X_re=df_final.drop(['diagnosis'],axis=1)\n",
    "print('The dependent variable is diagnosis and the independent variables are ',list(X_re.columns))\n",
    "print(X_re.shape)\n",
    "print(y_re.shape)"
   ]
  },
  {
   "cell_type": "code",
   "execution_count": 47,
   "metadata": {},
   "outputs": [
    {
     "data": {
      "text/plain": [
       "regular periods          int32\n",
       "painful periods          int32\n",
       "period cycle             int32\n",
       "period pain scale        int32\n",
       "excessive hair growth    int32\n",
       "stress                   int32\n",
       "diagnosis                int32\n",
       "dtype: object"
      ]
     },
     "execution_count": 47,
     "metadata": {},
     "output_type": "execute_result"
    }
   ],
   "source": [
    "df_final.dtypes"
   ]
  },
  {
   "cell_type": "code",
   "execution_count": 48,
   "metadata": {},
   "outputs": [],
   "source": [
    "X_re_train,X_re_test,y_re_train,y_re_test=train_test_split(X_re,y_re,test_size=0.2,random_state=0)"
   ]
  },
  {
   "cell_type": "code",
   "execution_count": 49,
   "metadata": {},
   "outputs": [
    {
     "name": "stdout",
     "output_type": "stream",
     "text": [
      "Accuracy is  89.29 %\n"
     ]
    }
   ],
   "source": [
    "#Logistic Regression\n",
    "clf_re=LogisticRegression()\n",
    "model_re=clf_re.fit(X_re_train,y_re_train)\n",
    "y_re_pred=model_re.predict(X_re_test)\n",
    "ac=accuracy_score(y_re_test,y_re_pred,normalize=True)\n",
    "b=np.round(ac*100,2)\n",
    "print('Accuracy is ',b,'%')"
   ]
  },
  {
   "cell_type": "code",
   "execution_count": 50,
   "metadata": {},
   "outputs": [],
   "source": [
    "import pickle\n",
    "pickle.dump(model_re, open('model_re.pkl', 'wb'))"
   ]
  },
  {
   "cell_type": "code",
   "execution_count": 51,
   "metadata": {},
   "outputs": [],
   "source": [
    "pikled_model_re=pickle.load(open('model_re.pkl','rb'))"
   ]
  },
  {
   "cell_type": "code",
   "execution_count": 52,
   "metadata": {},
   "outputs": [
    {
     "data": {
      "text/plain": [
       "array([0, 0, 0, 0, 0, 0, 0, 0, 1, 0, 0, 0, 0, 0, 0, 0, 0, 1, 1, 0, 1, 0,\n",
       "       0, 0, 0, 0, 0, 0])"
      ]
     },
     "execution_count": 52,
     "metadata": {},
     "output_type": "execute_result"
    }
   ],
   "source": [
    "pikled_model_re.predict(X_re_test)"
   ]
  },
  {
   "cell_type": "code",
   "execution_count": 53,
   "metadata": {},
   "outputs": [
    {
     "data": {
      "text/plain": [
       "regular periods          int32\n",
       "painful periods          int32\n",
       "period cycle             int32\n",
       "period pain scale        int32\n",
       "excessive hair growth    int32\n",
       "stress                   int32\n",
       "diagnosis                int32\n",
       "dtype: object"
      ]
     },
     "execution_count": 53,
     "metadata": {},
     "output_type": "execute_result"
    }
   ],
   "source": [
    "df5.dtypes"
   ]
  },
  {
   "cell_type": "code",
   "execution_count": 54,
   "metadata": {},
   "outputs": [
    {
     "data": {
      "text/plain": [
       "regular periods          int32\n",
       "painful periods          int32\n",
       "period cycle             int32\n",
       "period pain scale        int32\n",
       "excessive hair growth    int32\n",
       "stress                   int32\n",
       "diagnosis                int32\n",
       "dtype: object"
      ]
     },
     "execution_count": 54,
     "metadata": {},
     "output_type": "execute_result"
    }
   ],
   "source": [
    "relevant_training_data.dtypes"
   ]
  },
  {
   "cell_type": "code",
   "execution_count": 55,
   "metadata": {},
   "outputs": [],
   "source": [
    "import numpy as np"
   ]
  },
  {
   "cell_type": "code",
   "execution_count": 56,
   "metadata": {},
   "outputs": [
    {
     "data": {
      "text/plain": [
       "array([1])"
      ]
     },
     "execution_count": 56,
     "metadata": {},
     "output_type": "execute_result"
    }
   ],
   "source": [
    "features=np.array([[1,0,2,2,1,1]])\n",
    "pikled_model_re.predict(features)"
   ]
  },
  {
   "cell_type": "code",
   "execution_count": 57,
   "metadata": {},
   "outputs": [
    {
     "data": {
      "text/plain": [
       "array([0])"
      ]
     },
     "execution_count": 57,
     "metadata": {},
     "output_type": "execute_result"
    }
   ],
   "source": [
    "features=np.array([[0,1,0,1,0,0]])\n",
    "pikled_model_re.predict(features)"
   ]
  },
  {
   "cell_type": "code",
   "execution_count": null,
   "metadata": {},
   "outputs": [],
   "source": [
    "list1=[]\n",
    "rp=int(input(\"Are you experiencing irregular or late periods?:'regular periods': {'No': 0, 'Yes': 1} \"))\n",
    "list1.append(rp)\n",
    "pp=int(input(\" Are you experiencing painful periods?:'painful periods': {'No': 0, 'Yes': 1} \"))\n",
    "list1.append(pp)\n",
    "pc=int(input(\"How often do you get your periods?:'period cycle': {'21 - 40 days': 0, 'Less than 21 days': 1, 'More than 40 days': 2} \"))\n",
    "list1.append(pc)\n",
    "pps=int(input(\"How would you like to rate your period pains?:'period pain scale': {'Mild': 0, 'Moderate': 1, 'No period pain': 2, 'Severe': 3} \"))\n",
    "list1.append(pps)\n",
    "ehg=int(input(\"Do you experience excessive growth of facial and body hair?:'excessive hair growth': {'No': 0, 'Yes': 1} \"))\n",
    "list1.append(ehg)\n",
    "s=int(input(\" Are you under any stress?:'stress': {'No': 0, 'Yes': 1} \"))\n",
    "list1.append(s)\n",
    "print(list1)"
   ]
  },
  {
   "cell_type": "code",
   "execution_count": null,
   "metadata": {},
   "outputs": [],
   "source": [
    "feature1=np.array([list1])\n",
    "#print(feature1)\n",
    "pikled_model_re.predict(feature1)\n"
   ]
  },
  {
   "cell_type": "code",
   "execution_count": null,
   "metadata": {},
   "outputs": [],
   "source": [
    "if(pikled_model_re.predict(feature1)==0):\n",
    "    print(\"NON-PCOS\")\n",
    "else:\n",
    "    print(\"PCOS\")"
   ]
  },
  {
   "cell_type": "code",
   "execution_count": null,
   "metadata": {},
   "outputs": [],
   "source": []
  }
 ],
 "metadata": {
  "colab": {
   "provenance": []
  },
  "kernelspec": {
   "display_name": "Python 3",
   "language": "python",
   "name": "python3"
  },
  "language_info": {
   "codemirror_mode": {
    "name": "ipython",
    "version": 3
   },
   "file_extension": ".py",
   "mimetype": "text/x-python",
   "name": "python",
   "nbconvert_exporter": "python",
   "pygments_lexer": "ipython3",
   "version": "3.7.6"
  }
 },
 "nbformat": 4,
 "nbformat_minor": 1
}
